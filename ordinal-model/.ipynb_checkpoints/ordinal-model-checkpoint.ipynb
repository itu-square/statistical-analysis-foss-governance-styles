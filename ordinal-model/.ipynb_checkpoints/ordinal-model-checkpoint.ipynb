{
 "cells": [
  {
   "cell_type": "code",
   "execution_count": null,
   "metadata": {
    "collapsed": false,
    "jupyter": {
     "outputs_hidden": false
    },
    "tags": null
   },
   "outputs": [],
   "source": [
    "import numpy as np\n",
    "import arviz as az\n",
    "import pymc3 as pm\n",
    "import pandas as pd\n",
    "from scipy.stats import norm\n",
    "from matplotlib import pyplot as plt\n",
    "import theano.tensor as tt\n",
    "from theano.compile.ops import as_op\n",
    "import warnings\n",
    "warnings.filterwarnings(\"ignore\", category=FutureWarning)"
   ]
  },
  {
   "cell_type": "code",
   "execution_count": null,
   "metadata": {
    "collapsed": false,
    "jupyter": {
     "outputs_hidden": false
    }
   },
   "outputs": [],
   "source": [
    "df = pd.read_csv('pseudonymized-data.csv')"
   ]
  },
  {
   "cell_type": "code",
   "execution_count": null,
   "metadata": {
    "collapsed": false,
    "jupyter": {
     "outputs_hidden": false
    }
   },
   "outputs": [],
   "source": [
    "lk_27 = df[df.Community == 'Comm.Linux_Kernel'][df['V27'] != -1].V27"
   ]
  },
  {
   "cell_type": "code",
   "execution_count": null,
   "metadata": {
    "collapsed": false
   },
   "outputs": [],
   "source": [
    "lk_27"
   ]
  },
  {
   "cell_type": "code",
   "execution_count": null,
   "metadata": {
    "collapsed": false,
    "jupyter": {
     "outputs_hidden": false
    },
    "tags": null
   },
   "outputs": [],
   "source": [
    "# Number of outcomes\n",
    "nYlevels = 5\n",
    "\n",
    "thresh = np.arange(1.5, nYlevels, dtype=np.float32)\n",
    "thresh_obs = np.ma.asarray(thresh)\n",
    "thresh_obs[1:-1] = np.ma.masked\n",
    "\n",
    "print('thresh:\\t\\t{}'.format(thresh))\n",
    "print('thresh_obs:\\t{}'.format(thresh_obs))"
   ]
  },
  {
   "cell_type": "code",
   "execution_count": null,
   "metadata": {
    "collapsed": false,
    "jupyter": {
     "outputs_hidden": false
    }
   },
   "outputs": [],
   "source": [
    "# Using the Theano @as_op decorator with a custom function to calculate the threshold probabilities.\n",
    "# Theano cannot compute a gradient for these custom functions, so it is not possible to use\n",
    "# gradient based samplers in PyMC3.\n",
    "# http://pymc-devs.github.io/pymc3/notebooks/getting_started.html#Arbitrary-deterministics\n",
    "@as_op(itypes=[tt.dvector, tt.dscalar, tt.dscalar], otypes=[tt.fvector])\n",
    "def outcome_probabilities(theta, mu, sigma):\n",
    "    out = np.empty(nYlevels, dtype=np.float32)\n",
    "    n = norm(loc=mu, scale=sigma)       \n",
    "    out[0] = n.cdf(theta[0])        \n",
    "    out[1] = np.max([0, n.cdf(theta[1]) - n.cdf(theta[0])])\n",
    "    out[2] = np.max([0, n.cdf(theta[2]) - n.cdf(theta[1])])\n",
    "    out[3] = np.max([0, n.cdf(theta[3]) - n.cdf(theta[2])])\n",
    "    out[4] = 1 - n.cdf(theta[3])\n",
    "    return out\n",
    "\n",
    "with pm.Model() as ordinal_model_single:    \n",
    "    \n",
    "    theta = pm.Normal('theta',mu=thresh,tau=np.repeat(.5**2, len(thresh)),shape=len(thresh),observed=thresh_obs)\n",
    "    \n",
    "    mu = pm.Normal('mu', mu=nYlevels/2.0, tau=1.0/(nYlevels**2))\n",
    "    sigma = pm.Uniform('sigma', nYlevels/1000.0, nYlevels*10.0)\n",
    "          \n",
    "    pr = outcome_probabilities(theta, mu, sigma)\n",
    "        \n",
    "    y = pm.Categorical('y', pr, observed=lk_27-1)\n",
    "    \n",
    "pm.model_to_graphviz(ordinal_model_single)"
   ]
  },
  {
   "cell_type": "code",
   "execution_count": null,
   "metadata": {
    "collapsed": false,
    "jupyter": {
     "outputs_hidden": false
    },
    "tags": null
   },
   "outputs": [],
   "source": [
    "with ordinal_model_single:\n",
    "    trace = pm.sample(5000, cores=4)"
   ]
  },
  {
   "cell_type": "code",
   "execution_count": null,
   "metadata": {
    "collapsed": false,
    "jupyter": {
     "outputs_hidden": false
    }
   },
   "outputs": [],
   "source": [
    "pm.traceplot(trace)"
   ]
  },
  {
   "cell_type": "code",
   "execution_count": null,
   "metadata": {
    "collapsed": false,
    "jupyter": {
     "outputs_hidden": false
    }
   },
   "outputs": [],
   "source": [
    "pm.summary(trace)"
   ]
  },
  {
   "cell_type": "code",
   "execution_count": null,
   "metadata": {
    "collapsed": false,
    "jupyter": {
     "outputs_hidden": false
    }
   },
   "outputs": [],
   "source": [
    "from matplotlib import gridspec\n",
    "import seaborn as sns\n",
    "color = '#87ceeb'\n",
    "f_dict = {'size':14}\n",
    "mu = trace['mu']\n",
    "sigma = trace['sigma']\n",
    "\n",
    "# Concatenate the fixed thresholds into the estimated thresholds\n",
    "n = trace['theta_missing'].shape[0]\n",
    "thresholds = np.c_[np.tile([1.5], (n,1)),\n",
    "                   trace['theta_missing'],\n",
    "                   np.tile([4.5], (n,1))]\n",
    "\n",
    "# Define gridspec\n",
    "fig = plt.figure(figsize=(10,8))\n",
    "gs = gridspec.GridSpec(3, 2)\n",
    "ax1 = plt.subplot(gs[0,0])\n",
    "ax2 = plt.subplot(gs[0,1])\n",
    "ax3 = plt.subplot(gs[1,0])\n",
    "ax4 = plt.subplot(gs[1,1])\n",
    "ax5 = plt.subplot(gs[2,0])\n",
    "\n",
    "# Mu\n",
    "pm.plot_posterior(mu, point_estimate='mode', color=color, ax=ax1)\n",
    "ax1.set_title('Mean', fontdict=f_dict)\n",
    "ax1.set_xlabel('$\\mu$', fontdict=f_dict)\n",
    "\n",
    "# Posterior predictive probabilities of the outcomes\n",
    "threshCumProb = np.empty(thresholds.shape)\n",
    "\n",
    "for i in np.arange(threshCumProb.shape[0]):\n",
    "    threshCumProb[i] = norm().cdf((thresholds[i] - mu[i])/sigma[i])\n",
    "    \n",
    "outProb = (np.c_[threshCumProb, np.tile(1, (thresholds.shape[0],1))] - np.c_[np.tile(0, (thresholds.shape[0],1)), threshCumProb])\n",
    "yerr = np.abs(np.subtract(pm.hpd(outProb), outProb.mean(axis=0).reshape(-1,1)))\n",
    "\n",
    "((lk_27-1).value_counts(sort=False)/nYlevels).plot.bar(ax=ax2, rot=0, color='royalblue')\n",
    "ax2.errorbar(x = np.arange(nYlevels), y=outProb.mean(axis=0), yerr=yerr.T, color=color, fmt='o')\n",
    "ax2.set_xlabel('y')\n",
    "sns.despine(ax=ax2, left=True)\n",
    "# ax2.yaxis.set_visible(False)\n",
    "ax2.set_title('Data w. Post. Pred.\\n N={}'.format(nYlevels), fontdict=f_dict)\n",
    "\n",
    "# Sigma\n",
    "pm.plot_posterior(sigma, point_estimate='mode', color=color, ax=ax3)\n",
    "ax3.set_title('Std. Dev.', fontdict=f_dict)\n",
    "ax3.set_xlabel('$\\sigma$', fontdict=f_dict)\n",
    "\n",
    "# Effect size\n",
    "pm.plot_posterior((mu-2)/sigma,point_estimate='mode',  color=color, ax=ax4)\n",
    "ax4.set_title('Effect Size', fontdict=f_dict)\n",
    "ax4.set_xlabel('$(\\mu-2)/\\sigma$', fontdict=f_dict)\n",
    "\n",
    "# Posterior distribution on the thresholds\n",
    "# ax5.scatter(thresholds, np.tile(thresholds.mean(axis=1).reshape(-1,1), (1,6)), color=color, alpha=.6, facecolor='none')\n",
    "# ax5.set_ylabel('Mean Threshold', fontdict=f_dict)\n",
    "# ax5.set_xlabel('Threshold', fontdict=f_dict)\n",
    "# ax5.vlines(x = thresholds.mean(axis=0),\n",
    "#            ymin=thresholds.mean(axis=1).min(),\n",
    "#            ymax=thresholds.mean(axis=1).max(), linestyles='dotted', colors=color)\n",
    "\n",
    "fig.tight_layout()"
   ]
  },
  {
   "cell_type": "code",
   "execution_count": null,
   "metadata": {
    "collapsed": false
   },
   "outputs": [],
   "source": [
    "print(thresholds.shape)\n",
    "print(thresholds)\n",
    "print(outProb)\n",
    "print(outProb.mean(axis=0))\n",
    "print(yerr)\n",
    "print(threshCumProb)\n",
    "np.array([0,0.2, 0.6, 2.4, 0.6])/sum([0,0.2, 0.6, 2.4, 0.6])"
   ]
  },
  {
   "cell_type": "code",
   "execution_count": null,
   "metadata": {
    "collapsed": false,
    "jupyter": {
     "outputs_hidden": false
    }
   },
   "outputs": [],
   "source": [
    "yerr=np.array([[0.0171023,  0.05190606],\n",
    "               [0.05688711, 0.08563712],\n",
    "               [0.12881857, 0.14287911],\n",
    "               [0.20265695, 0.20335417],\n",
    "               [0.14917756, 0.16691846]])\n",
    "x = [1,2,3,4,5]\n",
    "y = [0.0171023,  0.05695131, 0.16608955, 0.56333736, 0.19651949]\n",
    "yData = np.array([0.,0.05263158,0.15789474,0.63157895,0.15789474])\n",
    "fig, ax = plt.subplots()\n",
    "ax.bar(x,yData)\n",
    "ax.errorbar(x=x, y=outProb.mean(axis=0), yerr=yerr.T, color='red',fmt='o', uplims=True, lolims=True,)\n",
    "plt.show()\n",
    "yerr.T"
   ]
  }
 ],
 "metadata": {
  "kernelspec": {
   "argv": [
    "python",
    "-m",
    "ipykernel_launcher",
    "-f",
    "{connection_file}"
   ],
   "display_name": "Python 3",
   "env": null,
   "interrupt_mode": "signal",
   "language": "python",
   "metadata": null,
   "name": "python3"
  },
  "language_info": {
   "codemirror_mode": {
    "name": "ipython",
    "version": 3
   },
   "file_extension": ".py",
   "mimetype": "text/x-python",
   "name": "python",
   "nbconvert_exporter": "python",
   "pygments_lexer": "ipython3",
   "version": "3.8.2"
  },
  "name": "ordinal-model.ipynb"
 },
 "nbformat": 4,
 "nbformat_minor": 4
}
