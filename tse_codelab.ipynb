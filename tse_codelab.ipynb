{
  "nbformat": 4,
  "nbformat_minor": 0,
  "metadata": {
    "kernelspec": {
      "argv": [
        "/usr/bin/python3",
        "-m",
        "ipykernel_launcher",
        "-f",
        "{connection_file}"
      ],
      "display_name": "Python 3",
      "env": null,
      "interrupt_mode": "signal",
      "language": "python",
      "metadata": null,
      "name": "python3"
    },
    "name": "tse-codelab.ipynb",
    "colab": {
      "name": "tse-codelab.ipynb",
      "provenance": [],
      "collapsed_sections": [
        "e2I869MDgZUS",
        "Gsg0Vc3wgTjA",
        "KnLQqjCRnQig",
        "FBqptq6RgTjA",
        "fh80JwDE6twR",
        "rkc0IKmQ6twU"
      ],
      "toc_visible": true
    }
  },
  "cells": [
    {
      "cell_type": "markdown",
      "metadata": {
        "collapsed": false,
        "id": "D5odBxp0gTjA",
        "colab_type": "text"
      },
      "source": [
        "# Comparing PR Handling in FOSS Commununities\n",
        "\n",
        "In this notebook we study how different Free & Open-Source Software (FOSS) communities handle Pull Requests (PRs). In particular, we compare how _protective_, _equitable_ and _lenient_ FOSS communities are in handling PRs. [NOTE: Maybe here some examples of what each of these categories mean at a high level]. \n",
        "\n",
        "To this end, we have collected information related to PR handling from members of the following FOSS communities [NOTE: reference to the study]:\n",
        "\n",
        "* FOSSASIA\n",
        "* Odoo\n",
        "* DuckDuckGo\n",
        "* Linux Kernel\n",
        "* Coala\n",
        "* ROS\n",
        "* Plone\n",
        "* ReactJS\n",
        "* AngularJS\n",
        "* NodeJS\n",
        "* OpenGenus\n",
        "* Mozilla\n",
        "* OpenSUSE\n",
        "* jQuery\n",
        "* Apache\n",
        "* Other\n"
      ]
    },
    {
      "cell_type": "markdown",
      "metadata": {
        "id": "z3UlxRTM0Ihi",
        "colab_type": "text"
      },
      "source": [
        "## Classification\n",
        "\n",
        "We are interested in comparing how _protective_, _equitable_ and _lenient_ the different communities are. Below we precisely describe what the criteria to classify a community within a category."
      ]
    },
    {
      "cell_type": "markdown",
      "metadata": {
        "id": "r0P-G8QF0Tx1",
        "colab_type": "text"
      },
      "source": [
        "### Protective\n",
        "\n",
        "A community is classified as “Protective” when the response from this community is positive in at least one of these variables V28 (“I don't consider a pull request/patch, unless I trust the contributor”), V29 (“I don't consider a pull request/patch, unless the contributor is reliable.”), and V30 (“I don't consider a pull request/patch, unless I have a strong relationship with the contributor.”). It is possible that positive evaluations of V27 (“In general I  say no to most pull requests (PR)/patches”) can be included in this evaluation too."
      ]
    },
    {
      "cell_type": "markdown",
      "metadata": {
        "id": "JlIt4tZ_0i-M",
        "colab_type": "text"
      },
      "source": [
        "### Equitable\n",
        "\n",
        "A community is classified as “Equitable” when the response from this community is positive in at least one of these variables V31 (“I assess every pull request/patch in the same manner irrespective of the contributor.”), V32 (“I assess pull requests/patches purely on technical grounds.”).  The equitability in community is expected to find positive answers on V31, V32 which have different tone compared to V33 (“I never say no to a pull request/patch. If the quality of the PR/patch is not mergeable, then I mentor the contributor to elevate his/her PR/patch to a mergeable state.”) in question."
      ]
    },
    {
      "cell_type": "markdown",
      "metadata": {
        "id": "0rceCV9P0qzU",
        "colab_type": "text"
      },
      "source": [
        "### Lenient\n",
        "\n",
        "A community is classified as “Lenient” when the response from this community is positive V33 (“I never say no to a pull request/patch. If the quality of the PR/patch is not mergeable, then I mentor the contributor to elevate his/her PR/patch to a mergeable state.”)."
      ]
    },
    {
      "cell_type": "markdown",
      "metadata": {
        "id": "ydsIHA_k01Pq",
        "colab_type": "text"
      },
      "source": [
        "### Answers \n",
        "\n",
        "The participants in the survey selected a mark from the likert scale below to answer each question:\n",
        "\n",
        "1. Strongly Agree\n",
        "2. Agree\n",
        "3. Neutral\n",
        "4. Disagree\n",
        "5. Strongly Diasgree\n",
        "\n",
        "\n",
        "**Remark**: In this study we consider that a community is _positive_ on a variable if the questions of the community are concentrated on strongly agree, agree or neutral. [NOTE: Perhaps here we should say why we choose this threshold]"
      ]
    },
    {
      "cell_type": "markdown",
      "metadata": {
        "id": "kZgJdAjo1HEY",
        "colab_type": "text"
      },
      "source": [
        "### Summary\n",
        "\n",
        "This table summaries the variables we study for each category. For a category $c \\in \\{\\mathit{protective, equitable, lenient}\\}$ and the set of variables for that category (denoted as $V_c$), we say that a community is $c$ iff it is positive (see remark above) to either of the questions in $V_c$. For instance, we say that a community is _lenient_ iff it is positive to either _V31_ or _V32_.\n",
        "\n",
        "\n",
        "| Category   | ID   | Variable                                                                                                           |\n",
        "|------------|------|--------------------------------------------------------------------------------------------------------------------|\n",
        "| Protective |      |                                                                                                                    |\n",
        "|            | V28  | I don't consider a pull request/patch, unless I trust the contributor.                                             |\n",
        "|            | V29  | I don't consider a pull request/patch, unless the contributor is reliable.                                         |\n",
        "|            | V30  | I don't consider a pull request/patch, unless I have a strong relationship with the contributor.                   |\n",
        "|            | V27^ | In general I  say no to most pull requests (PR)/patches”) can be included in this evaluation too.                  |\n",
        "| Equitable  |      |                                                                                                                    |\n",
        "|            | V31  | I assess every pull request/patch in the same manner irrespective of the contributor.                              |\n",
        "|            | V32  | I assess pull requests/patches purely on technical grounds.                                                        |\n",
        "| Lenient    |      |                                                                                                                    |\n",
        "|            | V33  | I never say no to a pull request/patch. I mentor the contributor to elevate his/her PR/patch to a mergeable state. |\n",
        "|            |      |                                                                                                                    |\n",
        "\n",
        "^ Variable V27 is optional in comparing protectiveness. However, it can be used to get additional information (see [Protective](#Protective) above).\n",
        "\n",
        "\n",
        "---\n",
        "\n",
        "[NOTE: Editing the table above in codelab is a pain. The editor provides no support whatsoever for editing markdown tables. My current approach is to edit the table in emacs and copy/paste it here. If you would like to edit the table, I recommend that you copy the table to a markdown editor with support for tables, make some edits, and then copy it back.]\n",
        "\n",
        "[NOTE: The summary is written in a language that it is useful for me. But my immediate guess is that the TSE community will not appreciate this formulation. So I leave it to you guys to present it in a more TSE friendly manner. Nevertheless, I find the table clarifying.]"
      ]
    },
    {
      "cell_type": "markdown",
      "metadata": {
        "id": "3g2yXgMmvQNO",
        "colab_type": "text"
      },
      "source": [
        "## Hypotheses"
      ]
    },
    {
      "cell_type": "markdown",
      "metadata": {
        "id": "eYFLIlhUwb78",
        "colab_type": "text"
      },
      "source": [
        "In what follows we analyze the veracity of the following hypotheses:\n",
        "\n",
        "**H1:** The Linux Kernel community adopts a protective style of governance for its code change process.\n",
        "\n",
        "**H2:** The FOSSASIA community adopts an equitable style of governance for its pull request process.\n",
        "\n",
        "**H3:** The Odoo community adopts an equitable style of governance for its pull request process.\n",
        "\n",
        "**H4:** The DuckDuckGo community adopts a linient style of governance for its pull request process.\n",
        "\n",
        "**H5:** The Coala community adopts a linient style of governance for its pull request process.\n",
        "\n",
        "**H6:** Each FOSS community adopts a governance style, either protective, equitable or linient, for its pull request process."
      ]
    },
    {
      "cell_type": "markdown",
      "metadata": {
        "id": "CkhZvIzC6M9I",
        "colab_type": "text"
      },
      "source": [
        "## Bayesian Data Analysis and Hypothesis Testing"
      ]
    },
    {
      "cell_type": "markdown",
      "metadata": {
        "id": "COZTxq9z6bwQ",
        "colab_type": "text"
      },
      "source": [
        "In order to test the hypoteses above (see [Hypotehses](#Hypoteses)), we use Bayesian inference to estimate the underlying distributions of the answers that each FOSS community gives to each of the variables defined above.\n",
        "\n",
        "We assume that the answers to the questions are [normaly distributed](https://en.wikipedia.org/wiki/Normal_distribution) over the possible answers (see [answers](#Answers)). Hence, we use a Bayesian model with normal distribution as a likelihood function---i.e., the distribution of the data in Bayesian jargon. We set a very uninformation and flexible prior so that we let the inference engine obtain the underlying distribuion of the answers for each community.\n",
        "\n",
        "Once we have obtained the distributions for each variable of each community we use different techniques to test our hypotheses. These techniques will be discussed in detailed below.\n",
        "\n",
        "We use PyMC3 to perform our analyses.\n",
        "\n",
        "In what follows, we first load the data and inialize the libraries used for the analysis, and, later, we present a section per hypothesis describing the model and the code to test the veracity of the hypothesis."
      ]
    },
    {
      "cell_type": "markdown",
      "metadata": {
        "id": "H5pXYG4kf-MQ",
        "colab_type": "text"
      },
      "source": [
        "###  Initialization"
      ]
    },
    {
      "cell_type": "markdown",
      "metadata": {
        "id": "8BP_i7VBqKnl",
        "colab_type": "text"
      },
      "source": [
        "**Little technical note:** In case you have problems with arviz+pymc3. Just run the cell below.\n",
        "\n",
        "You will be abel to detect issues if running the imports cell (two cells below) gives you an error."
      ]
    },
    {
      "cell_type": "code",
      "metadata": {
        "id": "-Kxll3yzgTjA",
        "colab_type": "code",
        "colab": {}
      },
      "source": [
        "!pip install arviz\n",
        "!pip install git+https://github.com/pymc-devs/pymc3"
      ],
      "execution_count": 0,
      "outputs": []
    },
    {
      "cell_type": "markdown",
      "metadata": {
        "id": "e2I869MDgZUS",
        "colab_type": "text"
      },
      "source": [
        "#### Imports\n",
        "\n",
        "Here we simply import all the libraries we need for our analysis.\n",
        "\n",
        "[NOTE: If you think it is necessary I can explain what each library is for]"
      ]
    },
    {
      "cell_type": "code",
      "metadata": {
        "id": "mrLeZ-_lB-Gm",
        "colab_type": "code",
        "colab": {}
      },
      "source": [
        "import numpy as np\n",
        "import pandas as pd\n",
        "import arviz as az\n",
        "import pymc3 as pm\n",
        "from matplotlib import pyplot as plt"
      ],
      "execution_count": 0,
      "outputs": []
    },
    {
      "cell_type": "markdown",
      "metadata": {
        "collapsed": false,
        "id": "Gsg0Vc3wgTjA",
        "colab_type": "text"
      },
      "source": [
        "### Loading the data\n",
        "\n",
        "We read the data from the pseudonymized data set and filter it by\n",
        "community. The dataset contains the answers of each participants to questions (variables) from V27 to V33. Each cell in the dataset contains an integer value in $\\{-1\\} \\cup [1,5]$ where $-1$ means that the participant didn't answer the question, $1$ means strongly agree, $2$ agree, and so on.\n",
        "\n",
        "In order to protect the identity of the participants we have striped out identifiable information from the original dataset. Concretely, unique identfiers and textual answers. This modification has no effect in the results as those data are irrelevant.\n",
        "\n",
        "Run the cell below to get a preview of the dataset."
      ]
    },
    {
      "cell_type": "code",
      "metadata": {
        "id": "JhLo9FVwgTjA",
        "colab_type": "code",
        "outputId": "f46e6257-dc6a-4109-e028-3044c4cf0cff",
        "colab": {
          "base_uri": "https://localhost:8080/",
          "height": 400
        }
      },
      "source": [
        "df = pd.read_csv('pseudonymized-data.csv')\n",
        "\n",
        "### In case the file 'pseudonymized-data.csv' disappears, comment the line above, and use the code below to upload it again\n",
        "# from google.colab import files\n",
        "# import io\n",
        "# uploaded = files.upload()\n",
        "# df = pd.read_csv(io.BytesIO(uploaded['pseudonymized-data.csv']))\n",
        "\n",
        "df"
      ],
      "execution_count": 9,
      "outputs": [
        {
          "output_type": "execute_result",
          "data": {
            "text/html": [
              "<div>\n",
              "<style scoped>\n",
              "    .dataframe tbody tr th:only-of-type {\n",
              "        vertical-align: middle;\n",
              "    }\n",
              "\n",
              "    .dataframe tbody tr th {\n",
              "        vertical-align: top;\n",
              "    }\n",
              "\n",
              "    .dataframe thead th {\n",
              "        text-align: right;\n",
              "    }\n",
              "</style>\n",
              "<table border=\"1\" class=\"dataframe\">\n",
              "  <thead>\n",
              "    <tr style=\"text-align: right;\">\n",
              "      <th></th>\n",
              "      <th>Community</th>\n",
              "      <th>V27</th>\n",
              "      <th>V28</th>\n",
              "      <th>V29</th>\n",
              "      <th>V30</th>\n",
              "      <th>V31</th>\n",
              "      <th>V32</th>\n",
              "      <th>V33</th>\n",
              "    </tr>\n",
              "  </thead>\n",
              "  <tbody>\n",
              "    <tr>\n",
              "      <th>0</th>\n",
              "      <td>Comm.FOSSASIA</td>\n",
              "      <td>4</td>\n",
              "      <td>4</td>\n",
              "      <td>4</td>\n",
              "      <td>5</td>\n",
              "      <td>1</td>\n",
              "      <td>1</td>\n",
              "      <td>1</td>\n",
              "    </tr>\n",
              "    <tr>\n",
              "      <th>1</th>\n",
              "      <td>Comm.FOSSASIA</td>\n",
              "      <td>5</td>\n",
              "      <td>5</td>\n",
              "      <td>5</td>\n",
              "      <td>5</td>\n",
              "      <td>1</td>\n",
              "      <td>1</td>\n",
              "      <td>1</td>\n",
              "    </tr>\n",
              "    <tr>\n",
              "      <th>2</th>\n",
              "      <td>Comm.FOSSASIA</td>\n",
              "      <td>-1</td>\n",
              "      <td>-1</td>\n",
              "      <td>-1</td>\n",
              "      <td>-1</td>\n",
              "      <td>-1</td>\n",
              "      <td>-1</td>\n",
              "      <td>-1</td>\n",
              "    </tr>\n",
              "    <tr>\n",
              "      <th>3</th>\n",
              "      <td>Comm.FOSSASIA</td>\n",
              "      <td>-1</td>\n",
              "      <td>-1</td>\n",
              "      <td>-1</td>\n",
              "      <td>-1</td>\n",
              "      <td>-1</td>\n",
              "      <td>-1</td>\n",
              "      <td>-1</td>\n",
              "    </tr>\n",
              "    <tr>\n",
              "      <th>4</th>\n",
              "      <td>Comm.FOSSASIA</td>\n",
              "      <td>-1</td>\n",
              "      <td>-1</td>\n",
              "      <td>-1</td>\n",
              "      <td>-1</td>\n",
              "      <td>-1</td>\n",
              "      <td>-1</td>\n",
              "      <td>-1</td>\n",
              "    </tr>\n",
              "    <tr>\n",
              "      <th>...</th>\n",
              "      <td>...</td>\n",
              "      <td>...</td>\n",
              "      <td>...</td>\n",
              "      <td>...</td>\n",
              "      <td>...</td>\n",
              "      <td>...</td>\n",
              "      <td>...</td>\n",
              "      <td>...</td>\n",
              "    </tr>\n",
              "    <tr>\n",
              "      <th>382</th>\n",
              "      <td>Comm.OpenSUSE</td>\n",
              "      <td>3</td>\n",
              "      <td>5</td>\n",
              "      <td>5</td>\n",
              "      <td>5</td>\n",
              "      <td>2</td>\n",
              "      <td>1</td>\n",
              "      <td>4</td>\n",
              "    </tr>\n",
              "    <tr>\n",
              "      <th>383</th>\n",
              "      <td>Comm.ROS</td>\n",
              "      <td>5</td>\n",
              "      <td>5</td>\n",
              "      <td>5</td>\n",
              "      <td>5</td>\n",
              "      <td>2</td>\n",
              "      <td>2</td>\n",
              "      <td>3</td>\n",
              "    </tr>\n",
              "    <tr>\n",
              "      <th>384</th>\n",
              "      <td>Comm.Plone</td>\n",
              "      <td>4</td>\n",
              "      <td>5</td>\n",
              "      <td>5</td>\n",
              "      <td>4</td>\n",
              "      <td>4</td>\n",
              "      <td>4</td>\n",
              "      <td>3</td>\n",
              "    </tr>\n",
              "    <tr>\n",
              "      <th>385</th>\n",
              "      <td>Comm.Linux_Kernel</td>\n",
              "      <td>-1</td>\n",
              "      <td>-1</td>\n",
              "      <td>-1</td>\n",
              "      <td>-1</td>\n",
              "      <td>-1</td>\n",
              "      <td>-1</td>\n",
              "      <td>-1</td>\n",
              "    </tr>\n",
              "    <tr>\n",
              "      <th>386</th>\n",
              "      <td>Comm.Linux_Kernel</td>\n",
              "      <td>-1</td>\n",
              "      <td>-1</td>\n",
              "      <td>-1</td>\n",
              "      <td>-1</td>\n",
              "      <td>-1</td>\n",
              "      <td>-1</td>\n",
              "      <td>-1</td>\n",
              "    </tr>\n",
              "  </tbody>\n",
              "</table>\n",
              "<p>387 rows × 8 columns</p>\n",
              "</div>"
            ],
            "text/plain": [
              "             Community  V27  V28  V29  V30  V31  V32  V33\n",
              "0        Comm.FOSSASIA    4    4    4    5    1    1    1\n",
              "1        Comm.FOSSASIA    5    5    5    5    1    1    1\n",
              "2        Comm.FOSSASIA   -1   -1   -1   -1   -1   -1   -1\n",
              "3        Comm.FOSSASIA   -1   -1   -1   -1   -1   -1   -1\n",
              "4        Comm.FOSSASIA   -1   -1   -1   -1   -1   -1   -1\n",
              "..                 ...  ...  ...  ...  ...  ...  ...  ...\n",
              "382      Comm.OpenSUSE    3    5    5    5    2    1    4\n",
              "383           Comm.ROS    5    5    5    5    2    2    3\n",
              "384         Comm.Plone    4    5    5    4    4    4    3\n",
              "385  Comm.Linux_Kernel   -1   -1   -1   -1   -1   -1   -1\n",
              "386  Comm.Linux_Kernel   -1   -1   -1   -1   -1   -1   -1\n",
              "\n",
              "[387 rows x 8 columns]"
            ]
          },
          "metadata": {
            "tags": []
          },
          "execution_count": 9
        }
      ]
    },
    {
      "cell_type": "markdown",
      "metadata": {
        "id": "KnLQqjCRnQig",
        "colab_type": "text"
      },
      "source": [
        "### H1\n",
        "#### The Linux Kernel community adopts a protective style of governance for its code change process."
      ]
    },
    {
      "cell_type": "markdown",
      "metadata": {
        "colab_type": "text",
        "id": "o1YXC2YPnbRX"
      },
      "source": [
        "#### Data"
      ]
    },
    {
      "cell_type": "markdown",
      "metadata": {
        "colab_type": "text",
        "id": "3u7sq771nbRj"
      },
      "source": [
        "Here we simply print the data we will analyze, i.e., answers to question V33 by the Coala community."
      ]
    },
    {
      "cell_type": "code",
      "metadata": {
        "colab_type": "code",
        "outputId": "24f15fa2-f389-458f-de35-d97501ea3cde",
        "id": "scSVHadtnbRn",
        "colab": {
          "base_uri": "https://localhost:8080/",
          "height": 374
        }
      },
      "source": [
        "## Just showing that all answer to V33 by duckduck go are -1\n",
        "Community = 'Comm.Linux_Kernel'\n",
        "v27 = df[(df.Community == Community) & (df.V27 != -1)].V27\n",
        "v28 = df[(df.Community == Community) & (df.V28 != -1)].V28\n",
        "v29 = df[(df.Community == Community) & (df.V29 != -1)].V29\n",
        "v30 = df[(df.Community == Community) & (df.V30 != -1)].V30\n",
        "v28"
      ],
      "execution_count": 33,
      "outputs": [
        {
          "output_type": "execute_result",
          "data": {
            "text/plain": [
              "277    5\n",
              "292    2\n",
              "296    3\n",
              "303    1\n",
              "306    1\n",
              "308    4\n",
              "310    4\n",
              "311    1\n",
              "313    1\n",
              "315    4\n",
              "317    2\n",
              "330    1\n",
              "332    2\n",
              "335    1\n",
              "340    5\n",
              "342    3\n",
              "350    4\n",
              "352    4\n",
              "354    5\n",
              "Name: V28, dtype: int64"
            ]
          },
          "metadata": {
            "tags": []
          },
          "execution_count": 33
        }
      ]
    },
    {
      "cell_type": "markdown",
      "metadata": {
        "collapsed": false,
        "colab_type": "text",
        "id": "BF9lsK_0o6y0"
      },
      "source": [
        "#### Model\n",
        "\n",
        "To study this hypothesis, we estimate the distribution of the answers\n",
        "to questions V27-V30 by participants of the Linux Kernel community. As mentioned earlier, we assume that the data form a [normal\n",
        "distribution](https://en.wikipedia.org/wiki/Normal_distribution). We estimate the distribution for the answers to each question separately. We\n",
        "set\n",
        "[uniform](https://en.wikipedia.org/wiki/Uniform_distribution_(continuous))\n",
        "priors on the parameters of the normal distributions—from\n",
        "$1$ to $5$ for the mean, and $0$ to $10$ for the standard\n",
        "deviation. Finally we check whether the answers are positive to any of the questions above. That is, whether the participants reply in the range neutral, agree or strongly agree.\n"
      ]
    },
    {
      "cell_type": "code",
      "metadata": {
        "colab_type": "code",
        "id": "QWgUmaLuo6zD",
        "colab": {}
      },
      "source": [
        "with pm.Model() as protective_linux_kernel:\n",
        "  μ27 = pm.Uniform('μ27', lower=1, upper=5)\n",
        "  μ28 = pm.Uniform('μ28', lower=1, upper=5)\n",
        "  μ29 = pm.Uniform('μ29', lower=1, upper=5)\n",
        "  μ30 = pm.Uniform('μ30', lower=1, upper=5)\n",
        "\n",
        "  σ27 = pm.Uniform('σ27', lower=0, upper=4)\n",
        "  σ28 = pm.Uniform('σ28', lower=0, upper=4)\n",
        "  σ29 = pm.Uniform('σ29', lower=0, upper=4)\n",
        "  σ30 = pm.Uniform('σ30', lower=0, upper=4)\n",
        "\n",
        "  obs27 = pm.Normal('obs27',mu=μ27,sigma=σ27,observed=v27)\n",
        "  obs28 = pm.Normal('obs28',mu=μ28,sigma=σ28,observed=v28)\n",
        "  obs29 = pm.Normal('obs29',mu=μ29,sigma=σ29,observed=v29)\n",
        "  obs30 = pm.Normal('obs30',mu=μ30,sigma=σ30,observed=v30)"
      ],
      "execution_count": 0,
      "outputs": []
    },
    {
      "cell_type": "markdown",
      "metadata": {
        "collapsed": false,
        "colab_type": "text",
        "id": "ZPyorw3Xo6zK"
      },
      "source": [
        "#### Sampling"
      ]
    },
    {
      "cell_type": "code",
      "metadata": {
        "colab_type": "code",
        "id": "hgf7Glq-o6zL",
        "colab": {
          "base_uri": "https://localhost:8080/",
          "height": 202
        },
        "outputId": "28045f28-8c14-4acf-b580-b72debe71cfd"
      },
      "source": [
        "with protective_linux_kernel:\n",
        "  trace_protective_linux_kernel = pm.sample(10000,cores=2)\n",
        "  ppc_protective_linux_kernel = pm.sample_posterior_predictive(trace_protective_linux_kernel, \n",
        "                                                               samples=5000, \n",
        "                                                               model=protective_linux_kernel)"
      ],
      "execution_count": 22,
      "outputs": [
        {
          "output_type": "stream",
          "text": [
            "Auto-assigning NUTS sampler...\n",
            "Initializing NUTS using jitter+adapt_diag...\n",
            "Multiprocess sampling (2 chains in 2 jobs)\n",
            "NUTS: [σ30, σ29, σ28, σ27, μ30, μ29, μ28, μ27]\n"
          ],
          "name": "stderr"
        },
        {
          "output_type": "display_data",
          "data": {
            "text/html": [
              "\n",
              "    <div>\n",
              "        <style>\n",
              "            /* Turns off some styling */\n",
              "            progress {\n",
              "                /* gets rid of default border in Firefox and Opera. */\n",
              "                border: none;\n",
              "                /* Needs to be in here for Safari polyfill so background images work as expected. */\n",
              "                background-size: auto;\n",
              "            }\n",
              "            .progress-bar-interrupted, .progress-bar-interrupted::-webkit-progress-bar {\n",
              "                background: #F44336;\n",
              "            }\n",
              "        </style>\n",
              "      <progress value='21000' class='' max='21000', style='width:300px; height:20px; vertical-align: middle;'></progress>\n",
              "      100.00% [21000/21000 00:30<00:00 Sampling 2 chains, 0 divergences]\n",
              "    </div>\n",
              "    "
            ],
            "text/plain": [
              "<IPython.core.display.HTML object>"
            ]
          },
          "metadata": {
            "tags": []
          }
        },
        {
          "output_type": "stream",
          "text": [
            "Sampling 2 chains for 500 tune and 10_000 draw iterations (1_000 + 20_000 draws total) took 32 seconds.\n",
            "/usr/local/lib/python3.6/dist-packages/pymc3/sampling.py:1581: UserWarning: samples parameter is smaller than nchains times ndraws, some draws and/or chains may not be represented in the returned posterior predictive sample\n",
            "  \"samples parameter is smaller than nchains times ndraws, some draws \"\n"
          ],
          "name": "stderr"
        },
        {
          "output_type": "display_data",
          "data": {
            "text/html": [
              "\n",
              "    <div>\n",
              "        <style>\n",
              "            /* Turns off some styling */\n",
              "            progress {\n",
              "                /* gets rid of default border in Firefox and Opera. */\n",
              "                border: none;\n",
              "                /* Needs to be in here for Safari polyfill so background images work as expected. */\n",
              "                background-size: auto;\n",
              "            }\n",
              "            .progress-bar-interrupted, .progress-bar-interrupted::-webkit-progress-bar {\n",
              "                background: #F44336;\n",
              "            }\n",
              "        </style>\n",
              "      <progress value='5000' class='' max='5000', style='width:300px; height:20px; vertical-align: middle;'></progress>\n",
              "      100.00% [5000/5000 00:19<00:00]\n",
              "    </div>\n",
              "    "
            ],
            "text/plain": [
              "<IPython.core.display.HTML object>"
            ]
          },
          "metadata": {
            "tags": []
          }
        }
      ]
    },
    {
      "cell_type": "markdown",
      "metadata": {
        "collapsed": false,
        "colab_type": "text",
        "id": "hLTw9mPAo6zP"
      },
      "source": [
        "#### Plotting"
      ]
    },
    {
      "cell_type": "code",
      "metadata": {
        "colab_type": "code",
        "id": "bU6OdMWYo6zP",
        "colab": {
          "base_uri": "https://localhost:8080/",
          "height": 1000
        },
        "outputId": "a85e77fa-abbc-47ba-a7aa-0c043987aafa"
      },
      "source": [
        "pm.plot_posterior(ppc_protective_linux_kernel['obs27'],ref_val=3,point_estimate='mode')\n",
        "pm.plot_posterior(ppc_protective_linux_kernel['obs28'],ref_val=3,point_estimate='mode')\n",
        "pm.plot_posterior(ppc_protective_linux_kernel['obs29'],ref_val=3,point_estimate='mode')\n",
        "pm.plot_posterior(ppc_protective_linux_kernel['obs30'],ref_val=3,point_estimate='mode')\n",
        "plt.show()"
      ],
      "execution_count": 28,
      "outputs": [
        {
          "output_type": "stream",
          "text": [
            "/usr/local/lib/python3.6/dist-packages/arviz/data/base.py:146: UserWarning: More chains (5000) than draws (19). Passed array should have shape (chains, draws, *shape)\n",
            "  UserWarning,\n",
            "/usr/local/lib/python3.6/dist-packages/arviz/data/base.py:146: UserWarning: More chains (5000) than draws (19). Passed array should have shape (chains, draws, *shape)\n",
            "  UserWarning,\n",
            "/usr/local/lib/python3.6/dist-packages/arviz/data/base.py:146: UserWarning: More chains (5000) than draws (19). Passed array should have shape (chains, draws, *shape)\n",
            "  UserWarning,\n",
            "/usr/local/lib/python3.6/dist-packages/arviz/data/base.py:146: UserWarning: More chains (5000) than draws (19). Passed array should have shape (chains, draws, *shape)\n",
            "  UserWarning,\n"
          ],
          "name": "stderr"
        },
        {
          "output_type": "display_data",
          "data": {
            "image/png": "[encoded data removed]",
            "text/plain": [
              "<Figure size 432x288 with 1 Axes>"
            ]
          },
          "metadata": {
            "tags": []
          }
        },
        {
          "output_type": "display_data",
          "data": {
            "image/png": "[encoded data removed]",
            "text/plain": [
              "<Figure size 432x288 with 1 Axes>"
            ]
          },
          "metadata": {
            "tags": []
          }
        },
        {
          "output_type": "display_data",
          "data": {
            "image/png": "[encoded data removed]",
            "text/plain": [
              "<Figure size 432x288 with 1 Axes>"
            ]
          },
          "metadata": {
            "tags": []
          }
        },
        {
          "output_type": "display_data",
          "data": {
            "image/png": "[encoded data removed]",
            "text/plain": [
              "<Figure size 432x288 with 1 Axes>"
            ]
          },
          "metadata": {
            "tags": []
          }
        }
      ]
    },
    {
      "cell_type": "markdown",
      "metadata": {
        "id": "uWE0slD_rmnp",
        "colab_type": "text"
      },
      "source": [
        "#### Queries"
      ]
    },
    {
      "cell_type": "markdown",
      "metadata": {
        "id": "x3zBWbnsrpQU",
        "colab_type": "text"
      },
      "source": [
        "##### Protective"
      ]
    },
    {
      "cell_type": "markdown",
      "metadata": {
        "id": "UrhiDXHrrtDD",
        "colab_type": "text"
      },
      "source": [
        "We define a function that precisely defines whether the answers to a question are _positive_ based on its probability distribution. \n",
        "\n",
        "Note that for each question we consider the distribution of the answer as positive if the distribution has 95% of the asnwers below 3.0. Intuitively, it means that all the answers are concentrated in strong agree, agree or neutral."
      ]
    },
    {
      "cell_type": "code",
      "metadata": {
        "id": "QJEyMMx2sNXF",
        "colab_type": "code",
        "colab": {}
      },
      "source": [
        "def protective(trace):\n",
        "    return (np.mean(trace['obs28'] < 3.0) > .95 or\n",
        "            np.mean(trace['obs29'] < 3.0) > .95 or\n",
        "            np.mean(trace['obs30'] < 3.0) > .95)"
      ],
      "execution_count": 0,
      "outputs": []
    },
    {
      "cell_type": "markdown",
      "metadata": {
        "id": "FWrTfIjNsQHS",
        "colab_type": "text"
      },
      "source": [
        "Now we ask whether the Linux Kernel community is protective."
      ]
    },
    {
      "cell_type": "code",
      "metadata": {
        "id": "j9kN5gYjs-sq",
        "colab_type": "code",
        "colab": {
          "base_uri": "https://localhost:8080/",
          "height": 35
        },
        "outputId": "f5f934be-f29f-4abb-d564-c12bca5d959b"
      },
      "source": [
        "print(\"Is the \" + Community + \" community protective? \" + str(protective(ppc_protective_linux_kernel)))"
      ],
      "execution_count": 26,
      "outputs": [
        {
          "output_type": "stream",
          "text": [
            "Is the Comm.Linux_Kernel community protective? False\n"
          ],
          "name": "stdout"
        }
      ]
    },
    {
      "cell_type": "markdown",
      "metadata": {
        "colab_type": "text",
        "id": "5oltz_NIo6zT"
      },
      "source": [
        "#### Conclusions\n",
        "\n",
        "As the output of the cell above suggest, the Linux Kernel communitive is not protective. Therefore we can conclude that **hypothesis 1 is false**.\n",
        "\n",
        "The HPD intervals show that the answers are heavily spread out all possibilities, i.e., all values from 1 to 5 are within the HPD interval. This observation indicates that the community does not show a central tendency in the how protective they are."
      ]
    },
    {
      "cell_type": "markdown",
      "metadata": {
        "collapsed": false,
        "id": "FBqptq6RgTjA",
        "colab_type": "text"
      },
      "source": [
        "### H4\n",
        "#### \"The DuckDuckGo community adopts a linient style of governance for its pull request process.\"\n"
      ]
    },
    {
      "cell_type": "markdown",
      "metadata": {
        "colab_type": "text",
        "id": "nE8OHQKumaJy"
      },
      "source": [
        "#### Data"
      ]
    },
    {
      "cell_type": "markdown",
      "metadata": {
        "colab_type": "text",
        "id": "y3K8KDG4maJ0"
      },
      "source": [
        "Here we simply print the data we will analyze, i.e., answers to question V33 by the Coala community."
      ]
    },
    {
      "cell_type": "code",
      "metadata": {
        "id": "WxXkvwTF5Fw5",
        "colab_type": "code",
        "colab": {
          "base_uri": "https://localhost:8080/",
          "height": 106
        },
        "outputId": "5bdcb32b-d0d8-4306-e537-c051254a066e"
      },
      "source": [
        "## Just showing that all answer to V33 by duckduck go are -1\n",
        "df[(df.Community == 'Comm.DuckDuckGo')].V33"
      ],
      "execution_count": 5,
      "outputs": [
        {
          "output_type": "execute_result",
          "data": {
            "text/plain": [
              "125   -1\n",
              "128   -1\n",
              "129   -1\n",
              "329   -1\n",
              "Name: V33, dtype: int64"
            ]
          },
          "metadata": {
            "tags": []
          },
          "execution_count": 5
        }
      ]
    },
    {
      "cell_type": "markdown",
      "metadata": {
        "collapsed": false,
        "id": "3FTkTFmJgTjA",
        "colab_type": "text"
      },
      "source": [
        "#### Model\n",
        "\n",
        "To study this hypothesis, we estimate the distribution of the answers\n",
        "to question V33 by participants of the DuckDuckGo community. As mentioned earlier, we assume that the data form a [normal\n",
        "distribution](https://en.wikipedia.org/wiki/Normal_distribution). We\n",
        "set\n",
        "[uniform](https://en.wikipedia.org/wiki/Uniform_distribution_(continuous))\n",
        "priors on the parameters of the normal distributions for the data—from\n",
        "$1$ to $5$ for the mean, and $0$ to $10$ for the standard\n",
        "deviation. Finally we compute the difference between the means and\n",
        "standard deviations to evaluate our hypothesis.\n"
      ]
    },
    {
      "cell_type": "code",
      "metadata": {
        "id": "XixFzlIngTjA",
        "colab_type": "code",
        "colab": {}
      },
      "source": [
        "with pm.Model() as duckduckgo_lenient:\n",
        "    μ = pm.Uniform('μ', 1, 5)\n",
        "    σ = pm.Uniform('σ', 0, 10)\n",
        "\n",
        "    obs = pm.Normal('obs', mu=μ, sigma=σ,\n",
        "                    observed=df[(df.Community == 'Comm.DuckDuckGo') & (df.V33 != -1)].V33)"
      ],
      "execution_count": 0,
      "outputs": []
    },
    {
      "cell_type": "markdown",
      "metadata": {
        "collapsed": false,
        "id": "i5nOysDZgTjA",
        "colab_type": "text"
      },
      "source": [
        "#### Sampling"
      ]
    },
    {
      "cell_type": "code",
      "metadata": {
        "id": "E0DFKatzgTjA",
        "colab_type": "code",
        "colab": {}
      },
      "source": [
        "with duckduckgo_lenient:\n",
        "    trace = pm.sample(10000,cores=2)"
      ],
      "execution_count": 0,
      "outputs": []
    },
    {
      "cell_type": "markdown",
      "metadata": {
        "collapsed": false,
        "id": "an1x3gpHgTjA",
        "colab_type": "text"
      },
      "source": [
        "#### Plotting"
      ]
    },
    {
      "cell_type": "code",
      "metadata": {
        "id": "55ZkvVYbgTjA",
        "colab_type": "code",
        "colab": {}
      },
      "source": [
        "pm.traceplot(trace)\n",
        "plt.show()"
      ],
      "execution_count": 0,
      "outputs": []
    },
    {
      "cell_type": "markdown",
      "metadata": {
        "id": "cP_Rs-Hn5aDW",
        "colab_type": "text"
      },
      "source": [
        "#### Conclusions\n",
        "\n",
        "Since nobody from the DuckDuckGo community reply to answer V33 we cannot perform the analysis."
      ]
    },
    {
      "cell_type": "markdown",
      "metadata": {
        "collapsed": false,
        "colab_type": "text",
        "id": "5gx4DZAU6twH"
      },
      "source": [
        "### H5\n",
        "#### \"The Coala community adopts a linient style of governance for its pull request process.\"\n"
      ]
    },
    {
      "cell_type": "markdown",
      "metadata": {
        "id": "YS8PYq3GfH2Y",
        "colab_type": "text"
      },
      "source": [
        "#### Data"
      ]
    },
    {
      "cell_type": "markdown",
      "metadata": {
        "id": "aQWfLy6TfMiU",
        "colab_type": "text"
      },
      "source": [
        "Here we simply print the data we will analyze, i.e., answers to question V33 by the Coala community."
      ]
    },
    {
      "cell_type": "code",
      "metadata": {
        "colab_type": "code",
        "outputId": "896b8655-ee17-459d-d9d6-bcc59de40ed6",
        "id": "jpMiFdpz6twO",
        "colab": {
          "base_uri": "https://localhost:8080/",
          "height": 160
        }
      },
      "source": [
        "df[(df.Community == 'Comm.Coala') & (df.V33 != -1)].V33"
      ],
      "execution_count": 0,
      "outputs": [
        {
          "output_type": "execute_result",
          "data": {
            "text/plain": [
              "23     2\n",
              "57     1\n",
              "62     2\n",
              "72     2\n",
              "86     1\n",
              "144    2\n",
              "231    2\n",
              "Name: V33, dtype: int64"
            ]
          },
          "metadata": {
            "tags": []
          },
          "execution_count": 23
        }
      ]
    },
    {
      "cell_type": "markdown",
      "metadata": {
        "collapsed": false,
        "colab_type": "text",
        "id": "tqjUszno6twK"
      },
      "source": [
        "#### Model\n",
        "\n",
        "To study this hypothesis, we estimate the distribution of the answers\n",
        "to question V33 by participants of the Coala community. As mentioned earlier, we assume that the data form a [normal\n",
        "distribution](https://en.wikipedia.org/wiki/Normal_distribution). We\n",
        "set\n",
        "[uniform](https://en.wikipedia.org/wiki/Uniform_distribution_(continuous))\n",
        "priors on the parameters of the normal distributions for the data—from\n",
        "$1$ to $5$ for the mean, and $0$ to $10$ for the standard\n",
        "deviation. Finally we look into the posterior distribution to determine whether the hypothesis is validated by the data.\n"
      ]
    },
    {
      "cell_type": "code",
      "metadata": {
        "colab_type": "code",
        "id": "bxTIN-Bm6twL",
        "colab": {}
      },
      "source": [
        "with pm.Model() as coala_lenient:\n",
        "    μ = pm.Uniform('μ', 1, 5)\n",
        "    σ = pm.Uniform('σ', 0, 10)\n",
        "\n",
        "    obs = pm.Normal('obs', mu=μ, sigma=σ,\n",
        "                    observed=df[(df.Community == 'Comm.Coala') & (df.V33 != -1)].V33)"
      ],
      "execution_count": 0,
      "outputs": []
    },
    {
      "cell_type": "markdown",
      "metadata": {
        "collapsed": false,
        "colab_type": "text",
        "id": "fh80JwDE6twR"
      },
      "source": [
        "#### Sampling"
      ]
    },
    {
      "cell_type": "code",
      "metadata": {
        "colab_type": "code",
        "outputId": "e27e682e-4e7c-4b01-da07-961109e65a23",
        "id": "USyeCWZF6twS",
        "colab": {
          "base_uri": "https://localhost:8080/",
          "height": 220
        }
      },
      "source": [
        "with coala_lenient:\n",
        "  trace_coala_lenient = pm.sample(10000,cores=2) # Compute posterior\n",
        "  ppc_coala_lenient = pm.sample_posterior_predictive(trace_coala_lenient, \n",
        "                                                     samples=5000,\n",
        "                                                     model=coala_lenient) # Computer predictive check"
      ],
      "execution_count": 0,
      "outputs": [
        {
          "output_type": "stream",
          "text": [
            "Auto-assigning NUTS sampler...\n",
            "Initializing NUTS using jitter+adapt_diag...\n",
            "Multiprocess sampling (2 chains in 2 jobs)\n",
            "NUTS: [σ, μ]\n"
          ],
          "name": "stderr"
        },
        {
          "output_type": "display_data",
          "data": {
            "text/html": [
              "\n",
              "    <div>\n",
              "        <style>\n",
              "            /* Turns off some styling */\n",
              "            progress {\n",
              "                /* gets rid of default border in Firefox and Opera. */\n",
              "                border: none;\n",
              "                /* Needs to be in here for Safari polyfill so background images work as expected. */\n",
              "                background-size: auto;\n",
              "            }\n",
              "            .progress-bar-interrupted, .progress-bar-interrupted::-webkit-progress-bar {\n",
              "                background: #F44336;\n",
              "            }\n",
              "        </style>\n",
              "      <progress value='21000' class='' max='21000', style='width:300px; height:20px; vertical-align: middle;'></progress>\n",
              "      100.00% [21000/21000 00:18<00:00 Sampling 2 chains, 0 divergences]\n",
              "    </div>\n",
              "    "
            ],
            "text/plain": [
              "<IPython.core.display.HTML object>"
            ]
          },
          "metadata": {
            "tags": []
          }
        },
        {
          "output_type": "stream",
          "text": [
            "Sampling 2 chains for 500 tune and 10_000 draw iterations (1_000 + 20_000 draws total) took 19 seconds.\n",
            "The acceptance probability does not match the target. It is 0.9048611550306754, but should be close to 0.8. Try to increase the number of tuning steps.\n",
            "/usr/local/lib/python3.6/dist-packages/pymc3/sampling.py:1575: UserWarning: samples parameter is smaller than nchains times ndraws, some draws and/or chains may not be represented in the returned posterior predictive sample\n",
            "  \"samples parameter is smaller than nchains times ndraws, some draws \"\n"
          ],
          "name": "stderr"
        },
        {
          "output_type": "display_data",
          "data": {
            "text/html": [
              "\n",
              "    <div>\n",
              "        <style>\n",
              "            /* Turns off some styling */\n",
              "            progress {\n",
              "                /* gets rid of default border in Firefox and Opera. */\n",
              "                border: none;\n",
              "                /* Needs to be in here for Safari polyfill so background images work as expected. */\n",
              "                background-size: auto;\n",
              "            }\n",
              "            .progress-bar-interrupted, .progress-bar-interrupted::-webkit-progress-bar {\n",
              "                background: #F44336;\n",
              "            }\n",
              "        </style>\n",
              "      <progress value='5000' class='' max='5000', style='width:300px; height:20px; vertical-align: middle;'></progress>\n",
              "      100.00% [5000/5000 00:04<00:00]\n",
              "    </div>\n",
              "    "
            ],
            "text/plain": [
              "<IPython.core.display.HTML object>"
            ]
          },
          "metadata": {
            "tags": []
          }
        }
      ]
    },
    {
      "cell_type": "markdown",
      "metadata": {
        "collapsed": false,
        "colab_type": "text",
        "id": "rkc0IKmQ6twU"
      },
      "source": [
        "#### Plotting"
      ]
    },
    {
      "cell_type": "code",
      "metadata": {
        "colab_type": "code",
        "outputId": "b97511c0-4ca6-4933-8945-9b6f8c98ff40",
        "id": "hNqzLICS6twV",
        "colab": {
          "base_uri": "https://localhost:8080/",
          "height": 665
        }
      },
      "source": [
        "pm.plot_posterior(ppc_coala_lenient['obs'], ref_val=3, rope=(1.5,2.5))\n",
        "pm.traceplot(trace_coala_lenient)\n",
        "plt.show()"
      ],
      "execution_count": 0,
      "outputs": [
        {
          "output_type": "stream",
          "text": [
            "/usr/local/lib/python3.6/dist-packages/arviz/data/base.py:146: UserWarning: More chains (5000) than draws (7). Passed array should have shape (chains, draws, *shape)\n",
            "  UserWarning,\n"
          ],
          "name": "stderr"
        },
        {
          "output_type": "display_data",
          "data": {
            "image/png": "[encoded data removed]",
            "text/plain": [
              "<Figure size 432x288 with 1 Axes>"
            ]
          },
          "metadata": {
            "tags": []
          }
        },
        {
          "output_type": "display_data",
          "data": {
            "image/png": "[encoded data removed]",
            "text/plain": [
              "<Figure size 864x288 with 4 Axes>"
            ]
          },
          "metadata": {
            "tags": []
          }
        }
      ]
    },
    {
      "cell_type": "markdown",
      "metadata": {
        "colab_type": "text",
        "id": "PVxvWxtP6twZ"
      },
      "source": [
        "#### Conclusions\n",
        "\n",
        "The HDP of the distribution is from 0.4 to 3.1, i.e., most answers go from strongly agree to neutral. Only 3.9% of the answers are greater than 3, i.e., only 3.9% of the answer are on the side of disagree of strongly disagree. Therefore we can conclude that **hypothesis H5 is true**."
      ]
    },
    {
      "cell_type": "code",
      "metadata": {
        "id": "u8HSvN9528T6",
        "colab_type": "code",
        "colab": {}
      },
      "source": [
        "with pm.Model() as model:\n",
        "    μ1 = pm.Uniform('μ1', 1, 5)\n",
        "    σ1 = pm.Uniform('σ1', 0, 10)\n",
        "\n",
        "    obs1 = pm.Normal('obs1', mu=μ1, sigma=σ1, observed=df[(df.Community == 'Comm.ROS') & (df.V33 != -1)].V33)\n",
        "\n",
        "    μ2 = pm.Uniform('μ2', 1, 5)\n",
        "    σ2 = pm.Uniform('σ2', 0, 10)\n",
        "\n",
        "    obs2 = pm.Normal('obs2', mu=μ2, sigma=σ2, observed=df[(df.Community == 'Comm.Linux_Kernel') & (df.V33 != -1)].V33)\n",
        "\n",
        "    μ_diff = pm.Deterministic('μ_diff',μ1-μ2)\n",
        "    σ_diff = pm.Deterministic('σ_diff',σ1-σ2) "
      ],
      "execution_count": 0,
      "outputs": []
    },
    {
      "cell_type": "code",
      "metadata": {
        "id": "-zAWeGG9rT0J",
        "colab_type": "code",
        "outputId": "02694173-a5ed-4465-af23-2d76cb39eb69",
        "colab": {
          "base_uri": "https://localhost:8080/",
          "height": 228
        }
      },
      "source": [
        "pm.stats.summary(trace)"
      ],
      "execution_count": 0,
      "outputs": [
        {
          "output_type": "execute_result",
          "data": {
            "text/html": [
              "<div>\n",
              "<style scoped>\n",
              "    .dataframe tbody tr th:only-of-type {\n",
              "        vertical-align: middle;\n",
              "    }\n",
              "\n",
              "    .dataframe tbody tr th {\n",
              "        vertical-align: top;\n",
              "    }\n",
              "\n",
              "    .dataframe thead th {\n",
              "        text-align: right;\n",
              "    }\n",
              "</style>\n",
              "<table border=\"1\" class=\"dataframe\">\n",
              "  <thead>\n",
              "    <tr style=\"text-align: right;\">\n",
              "      <th></th>\n",
              "      <th>mean</th>\n",
              "      <th>sd</th>\n",
              "      <th>hpd_3%</th>\n",
              "      <th>hpd_97%</th>\n",
              "      <th>mcse_mean</th>\n",
              "      <th>mcse_sd</th>\n",
              "      <th>ess_mean</th>\n",
              "      <th>ess_sd</th>\n",
              "      <th>ess_bulk</th>\n",
              "      <th>ess_tail</th>\n",
              "      <th>r_hat</th>\n",
              "    </tr>\n",
              "  </thead>\n",
              "  <tbody>\n",
              "    <tr>\n",
              "      <th>μ1</th>\n",
              "      <td>2.917</td>\n",
              "      <td>0.185</td>\n",
              "      <td>2.582</td>\n",
              "      <td>3.281</td>\n",
              "      <td>0.001</td>\n",
              "      <td>0.001</td>\n",
              "      <td>23430.0</td>\n",
              "      <td>23155.0</td>\n",
              "      <td>23697.0</td>\n",
              "      <td>14218.0</td>\n",
              "      <td>1.0</td>\n",
              "    </tr>\n",
              "    <tr>\n",
              "      <th>σ1</th>\n",
              "      <td>0.878</td>\n",
              "      <td>0.143</td>\n",
              "      <td>0.628</td>\n",
              "      <td>1.138</td>\n",
              "      <td>0.001</td>\n",
              "      <td>0.001</td>\n",
              "      <td>19494.0</td>\n",
              "      <td>17665.0</td>\n",
              "      <td>21971.0</td>\n",
              "      <td>14609.0</td>\n",
              "      <td>1.0</td>\n",
              "    </tr>\n",
              "    <tr>\n",
              "      <th>μ2</th>\n",
              "      <td>2.890</td>\n",
              "      <td>0.233</td>\n",
              "      <td>2.454</td>\n",
              "      <td>3.331</td>\n",
              "      <td>0.002</td>\n",
              "      <td>0.001</td>\n",
              "      <td>21423.0</td>\n",
              "      <td>21423.0</td>\n",
              "      <td>21817.0</td>\n",
              "      <td>14414.0</td>\n",
              "      <td>1.0</td>\n",
              "    </tr>\n",
              "    <tr>\n",
              "      <th>σ2</th>\n",
              "      <td>0.974</td>\n",
              "      <td>0.187</td>\n",
              "      <td>0.667</td>\n",
              "      <td>1.330</td>\n",
              "      <td>0.002</td>\n",
              "      <td>0.001</td>\n",
              "      <td>15344.0</td>\n",
              "      <td>14331.0</td>\n",
              "      <td>16807.0</td>\n",
              "      <td>13038.0</td>\n",
              "      <td>1.0</td>\n",
              "    </tr>\n",
              "    <tr>\n",
              "      <th>μ_diff</th>\n",
              "      <td>0.027</td>\n",
              "      <td>0.299</td>\n",
              "      <td>-0.542</td>\n",
              "      <td>0.578</td>\n",
              "      <td>0.002</td>\n",
              "      <td>0.002</td>\n",
              "      <td>22318.0</td>\n",
              "      <td>10291.0</td>\n",
              "      <td>22401.0</td>\n",
              "      <td>14891.0</td>\n",
              "      <td>1.0</td>\n",
              "    </tr>\n",
              "    <tr>\n",
              "      <th>σ_diff</th>\n",
              "      <td>-0.096</td>\n",
              "      <td>0.233</td>\n",
              "      <td>-0.549</td>\n",
              "      <td>0.337</td>\n",
              "      <td>0.002</td>\n",
              "      <td>0.001</td>\n",
              "      <td>16954.0</td>\n",
              "      <td>12224.0</td>\n",
              "      <td>17490.0</td>\n",
              "      <td>13461.0</td>\n",
              "      <td>1.0</td>\n",
              "    </tr>\n",
              "  </tbody>\n",
              "</table>\n",
              "</div>"
            ],
            "text/plain": [
              "         mean     sd  hpd_3%  hpd_97%  ...   ess_sd  ess_bulk  ess_tail  r_hat\n",
              "μ1      2.917  0.185   2.582    3.281  ...  23155.0   23697.0   14218.0    1.0\n",
              "σ1      0.878  0.143   0.628    1.138  ...  17665.0   21971.0   14609.0    1.0\n",
              "μ2      2.890  0.233   2.454    3.331  ...  21423.0   21817.0   14414.0    1.0\n",
              "σ2      0.974  0.187   0.667    1.330  ...  14331.0   16807.0   13038.0    1.0\n",
              "μ_diff  0.027  0.299  -0.542    0.578  ...  10291.0   22401.0   14891.0    1.0\n",
              "σ_diff -0.096  0.233  -0.549    0.337  ...  12224.0   17490.0   13461.0    1.0\n",
              "\n",
              "[6 rows x 11 columns]"
            ]
          },
          "metadata": {
            "tags": []
          },
          "execution_count": 8
        }
      ]
    },
    {
      "cell_type": "markdown",
      "metadata": {
        "id": "yqjE3XqC6UNB",
        "colab_type": "text"
      },
      "source": [
        ""
      ]
    },
    {
      "cell_type": "markdown",
      "metadata": {
        "collapsed": false,
        "id": "uNe01kmsgTjA",
        "colab_type": "text"
      },
      "source": [
        "### Determining whether the Linux Kernel community is more protective than others\n",
        "\n",
        "We code below is still in progress..."
      ]
    },
    {
      "cell_type": "markdown",
      "metadata": {
        "collapsed": false,
        "colab_type": "text",
        "id": "5-Z_L8C959md"
      },
      "source": [
        "### H4\n",
        "#### \"The DuckDuckGo community adopts a linient style of governance for its pull request process.\"\n"
      ]
    },
    {
      "cell_type": "code",
      "metadata": {
        "id": "ncjRluX2gTjA",
        "colab_type": "code",
        "colab": {}
      },
      "source": [
        "## Protective Coala?\n",
        "### If answers are negative to V28-V30 does it mean that the community\n",
        "### is not protective?\n",
        "\n",
        "##### NOTE: Positive is > agree (also after neutral)\n",
        "\n",
        "Community = 'Comm.ROS'\n",
        "v28 = df[(df.Community == Community) & (df.V28 != -1)].V28\n",
        "v29 = df[(df.Community == Community) & (df.V29 != -1)].V29\n",
        "v30 = df[(df.Community == Community) & (df.V30 != -1)].V30\n",
        "v31 = df[(df.Community == Community) & (df.V31 != -1)].V31\n",
        "v32 = df[(df.Community == Community) & (df.V32 != -1)].V32\n",
        "\n",
        "with pm.Model() as model:\n",
        "    μ28 = pm.Uniform('μ28', lower=1, upper=5)\n",
        "    μ29 = pm.Uniform('μ29', lower=1, upper=5)\n",
        "    μ30 = pm.Uniform('μ30', lower=1, upper=5)\n",
        "    μ31 = pm.Uniform('μ31', lower=1, upper=5)\n",
        "    μ32 = pm.Uniform('μ32', lower=1, upper=5)\n",
        "\n",
        "    σ28 = pm.Uniform('σ28', lower=0, upper=4)\n",
        "    σ29 = pm.Uniform('σ29', lower=0, upper=4)\n",
        "    σ30 = pm.Uniform('σ30', lower=0, upper=4)\n",
        "    σ31 = pm.Uniform('σ31', lower=0, upper=4)\n",
        "    σ32 = pm.Uniform('σ32', lower=0, upper=4)\n",
        "\n",
        "    obs28 = pm.Normal('obs28',mu=μ28,sigma=σ28,observed=v28)\n",
        "    obs29 = pm.Normal('obs29',mu=μ29,sigma=σ29,observed=v29)\n",
        "    obs30 = pm.Normal('obs30',mu=μ30,sigma=σ30,observed=v30)\n",
        "    obs31 = pm.Normal('obs31',mu=μ31,sigma=σ31,observed=v31)\n",
        "    obs32 = pm.Normal('obs32',mu=μ32,sigma=σ32,observed=v32)"
      ],
      "execution_count": 0,
      "outputs": []
    },
    {
      "cell_type": "code",
      "metadata": {
        "id": "UL6On26nBZAL",
        "colab_type": "code",
        "colab": {}
      },
      "source": [
        "with model:\n",
        "    trace = pm.sample(10000,cores=2)"
      ],
      "execution_count": 0,
      "outputs": []
    },
    {
      "cell_type": "code",
      "metadata": {
        "id": "Y8RwOhNypxg8",
        "colab_type": "code",
        "colab": {}
      },
      "source": [
        "pm.traceplot(trace)"
      ],
      "execution_count": 0,
      "outputs": []
    },
    {
      "cell_type": "code",
      "metadata": {
        "id": "9rDDmmSPBh_e",
        "colab_type": "code",
        "colab": {}
      },
      "source": [
        "## TO DISCUSS: I put as a condition > .95 instead of == 1.0 because ==\n",
        "## 1.0 is hard to get. Also we should adjust for noise.\n",
        "\n",
        "def protective(trace):\n",
        "    return (np.mean(trace['obs28'] < 3.0) > .95 or\n",
        "            np.mean(trace['obs29'] < 3.0) > .95 or\n",
        "            np.mean(trace['obs30'] < 3.0) > .95)\n",
        "\n",
        "def equitable(trace):\n",
        "    return (np.mean(trace['obs31'] < 3.0) > .95 or\n",
        "            np.mean(trace['obs32'] < 3.0) > .95)"
      ],
      "execution_count": 0,
      "outputs": []
    },
    {
      "cell_type": "code",
      "metadata": {
        "id": "r0m9UIqRBkh7",
        "colab_type": "code",
        "colab": {}
      },
      "source": [
        "ppc = pm.sample_posterior_predictive(trace, samples=5000, model=model)"
      ],
      "execution_count": 0,
      "outputs": []
    },
    {
      "cell_type": "code",
      "metadata": {
        "id": "P_SxSihSqKNR",
        "colab_type": "code",
        "colab": {}
      },
      "source": [
        "pm.plot_posterior(ppc['obs29'],ref_val=3)"
      ],
      "execution_count": 0,
      "outputs": []
    },
    {
      "cell_type": "code",
      "metadata": {
        "id": "NmVZsVCYrYm1",
        "colab_type": "code",
        "colab": {}
      },
      "source": [
        "pm.plot_posterior(trace['μ28'],ref_val=3)"
      ],
      "execution_count": 0,
      "outputs": []
    },
    {
      "cell_type": "code",
      "metadata": {
        "id": "Pq3IdgE1Bmh5",
        "colab_type": "code",
        "colab": {}
      },
      "source": [
        "print(\"The community \" + Community + \" is\" + (\"\" if protective(ppc) else \" not\") + \" protective\")\n",
        "print(\"The community \" + Community + \" is\" + (\"\" if equitable(ppc) else \" not\") + \" equitable\")"
      ],
      "execution_count": 0,
      "outputs": []
    },
    {
      "cell_type": "code",
      "metadata": {
        "id": "200h1mFUBqJu",
        "colab_type": "code",
        "colab": {}
      },
      "source": [
        "print(np.mean(ppc['obs28']<3))\n",
        "print(np.mean(ppc['obs29']<3))\n",
        "print(np.mean(ppc['obs30']<3))\n",
        "print(np.mean(ppc['obs31']<3))\n",
        "print(np.mean(ppc['obs32']<3))"
      ],
      "execution_count": 0,
      "outputs": []
    }
  ]
}