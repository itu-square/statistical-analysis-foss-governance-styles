{
 "cells": [
  {
   "cell_type": "markdown",
   "metadata": {
    "colab_type": "text",
    "collapsed": false,
    "id": "D5odBxp0gTjA"
   },
   "source": [
    "# Comparing PR Handling in FOSS Commununities\n",
    "\n",
    "In this notebook we study how different Free & Open-Source Software (FOSS) communities handle Pull Requests (PRs). In particular, we compare how _protective_, _equitable_ and _lenient_ FOSS communities are in handling PRs. [NOTE: Maybe here some examples of what each of these categories mean at a high level]. \n",
    "\n",
    "To this end, we have collected information related to PR handling from members of the following FOSS communities [NOTE: reference to the study]:\n",
    "\n",
    "* FOSSASIA\n",
    "* Odoo\n",
    "* DuckDuckGo\n",
    "* Linux Kernel\n",
    "* Coala\n",
    "* ROS\n",
    "* Plone\n",
    "* ReactJS\n",
    "* AngularJS\n",
    "* NodeJS\n",
    "* OpenGenus\n",
    "* Mozilla\n",
    "* OpenSUSE\n",
    "* jQuery\n",
    "* Apache\n",
    "* Other\n"
   ]
  },
  {
   "cell_type": "markdown",
   "metadata": {
    "colab_type": "text",
    "collapsed": false,
    "id": "z3UlxRTM0Ihi"
   },
   "source": [
    "## Classification\n",
    "\n",
    "We are interested in comparing how _protective_, _equitable_ and _lenient_ the different communities are. Below we precisely describe the criteria to classify a community within a category."
   ]
  },
  {
   "cell_type": "markdown",
   "metadata": {
    "colab_type": "text",
    "collapsed": false,
    "id": "r0P-G8QF0Tx1"
   },
   "source": [
    "### Protective\n",
    "\n",
    "A community is classified as “Protective” when the response from this community is positive in at least one of these variables V28 (“I don't consider a pull request/patch, unless I trust the contributor”), V29 (“I don't consider a pull request/patch, unless the contributor is reliable.”), and V30 (“I don't consider a pull request/patch, unless I have a strong relationship with the contributor.”). It is possible that positive evaluations of V27 (“In general I  say no to most pull requests (PR)/patches”) can be included in this evaluation too."
   ]
  },
  {
   "cell_type": "markdown",
   "metadata": {
    "colab_type": "text",
    "collapsed": false,
    "id": "JlIt4tZ_0i-M"
   },
   "source": [
    "### Equitable\n",
    "\n",
    "A community is classified as “Equitable” when the response from this community is positive in at least one of these variables V31 (“I assess every pull request/patch in the same manner irrespective of the contributor.”), V32 (“I assess pull requests/patches purely on technical grounds.”).  The equitability in community is expected to find positive answers on V31, V32 which have different tone compared to V33 (“I never say no to a pull request/patch. If the quality of the PR/patch is not mergeable, then I mentor the contributor to elevate his/her PR/patch to a mergeable state.”) in question."
   ]
  },
  {
   "cell_type": "markdown",
   "metadata": {
    "colab_type": "text",
    "collapsed": false,
    "id": "0rceCV9P0qzU"
   },
   "source": [
    "### Lenient\n",
    "\n",
    "A community is classified as “Lenient” when the response from this community is positive V33 (“I never say no to a pull request/patch. If the quality of the PR/patch is not mergeable, then I mentor the contributor to elevate his/her PR/patch to a mergeable state.”)."
   ]
  },
  {
   "cell_type": "markdown",
   "metadata": {
    "colab_type": "text",
    "collapsed": false,
    "id": "ydsIHA_k01Pq"
   },
   "source": [
    "### Answers \n",
    "\n",
    "The participants in the survey selected a mark from the likert scale below to answer each question:\n",
    "\n",
    "1. Strongly Agree\n",
    "2. Agree\n",
    "3. Neutral\n",
    "4. Disagree\n",
    "5. Strongly Diasgree\n",
    "\n",
    "\n",
    "**Remark**: In this study we consider that a community is _positive_ on a variable if the questions of the community are concentrated on strongly agree, agree or neutral. [NOTE: Perhaps here we should say why we choose this threshold]"
   ]
  },
  {
   "cell_type": "markdown",
   "metadata": {
    "colab_type": "text",
    "collapsed": false,
    "id": "kZgJdAjo1HEY"
   },
   "source": [
    "### Summary\n",
    "\n",
    "This table summaries the variables we study for each category. For a category $c \\in \\{\\mathit{protective, equitable, lenient}\\}$ and the set of variables for that category (denoted as $V_c$), we say that a community is $c$ iff it is positive (see remark above) to either of the questions in $V_c$. For instance, we say that a community is _lenient_ iff it is positive to either _V31_ or _V32_.\n",
    "\n",
    "\n",
    "| Category   | ID   | Variable                                                                                                           |\n",
    "|------------|------|--------------------------------------------------------------------------------------------------------------------|\n",
    "| Protective |      |                                                                                                                    |\n",
    "|            | V28  | I don't consider a pull request/patch, unless I trust the contributor.                                             |\n",
    "|            | V29  | I don't consider a pull request/patch, unless the contributor is reliable.                                         |\n",
    "|            | V30  | I don't consider a pull request/patch, unless I have a strong relationship with the contributor.                   |\n",
    "|            | V27^ | In general I  say no to most pull requests (PR)/patches”) can be included in this evaluation too.                  |\n",
    "| Equitable  |      |                                                                                                                    |\n",
    "|            | V31  | I assess every pull request/patch in the same manner irrespective of the contributor.                              |\n",
    "|            | V32  | I assess pull requests/patches purely on technical grounds.                                                        |\n",
    "| Lenient    |      |                                                                                                                    |\n",
    "|            | V33  | I never say no to a pull request/patch. I mentor the contributor to elevate his/her PR/patch to a mergeable state. |\n",
    "\n",
    "^ Variable V27 is optional in comparing protectiveness. However, it can be used to get additional information (see [Protective](#Protective) above).\n",
    "\n",
    "\n",
    "---\n",
    "\n",
    "[NOTE: Editing the table above in codelab is a pain. The editor provides no support whatsoever for editing markdown tables. My current approach is to edit the table in emacs and copy/paste it here. If you would like to edit the table, I recommend that you copy the table to a markdown editor with support for tables, make some edits, and then copy it back.]\n",
    "\n",
    "[NOTE: The summary is written in a language that it is useful for me. But my immediate guess is that the TSE community will not appreciate this formulation. So I leave it to you guys to present it in a more TSE friendly manner. Nevertheless, I find the table clarifying.]"
   ]
  },
  {
   "cell_type": "markdown",
   "metadata": {
    "colab_type": "text",
    "collapsed": false,
    "id": "3g2yXgMmvQNO"
   },
   "source": [
    "## Hypotheses"
   ]
  },
  {
   "cell_type": "markdown",
   "metadata": {
    "colab_type": "text",
    "collapsed": false,
    "id": "eYFLIlhUwb78"
   },
   "source": [
    "In what follows we analyze the veracity of the following hypotheses:\n",
    "\n",
    "* **H1:** The Linux Kernel community adopts a protective style of governance for its code change process.\n",
    "\n",
    "* **H2:** The FOSSASIA community adopts an equitable style of governance for its pull request process.\n",
    "\n",
    "* **H3:** The Odoo community adopts an equitable style of governance for its pull request process.\n",
    "\n",
    "* **H4:** The DuckDuckGo community adopts a linient style of governance for its pull request process.\n",
    "\n",
    "* **H5:** The Coala community adopts a linient style of governance for its pull request process.\n",
    "\n",
    "* **H6:** Each FOSS community adopts a governance style, either protective, equitable or linient, for its pull request process.\n",
    "\n",
    "* **H7 (BONUS):** The Coala Community is more lenient than the Linux Kernel Community"
   ]
  },
  {
   "cell_type": "markdown",
   "metadata": {
    "colab_type": "text",
    "collapsed": false,
    "id": "CkhZvIzC6M9I"
   },
   "source": [
    "## Bayesian Data Analysis and Hypothesis Testing"
   ]
  },
  {
   "cell_type": "markdown",
   "metadata": {
    "colab_type": "text",
    "collapsed": false,
    "id": "COZTxq9z6bwQ"
   },
   "source": [
    "In order to test the hypoteses above (see [Hypotehses](#Hypoteses)), we use Bayesian inference to estimate the underlying distributions of the answers that each FOSS community gives to each of the variables defined above.\n",
    "\n",
    "We assume that the answers to the questions are [normaly distributed](https://en.wikipedia.org/wiki/Normal_distribution) over the possible answers (see [answers](#Answers)). Hence, we use a Bayesian model with normal distributions as a likelihood functions—i.e., the distribution of the data in Bayesian jargon. We set a very uninformative and flexible prior so that we let the inference engine obtain the underlying distribuion of the answers for each community.\n",
    "\n",
    "Once we have obtained the distributions for each variable of each community we use different techniques to test our hypotheses. These techniques will be discussed in detailed below.\n",
    "\n",
    "We use PyMC3 to perform our analyses.\n",
    "\n",
    "In what follows, we first load the data and inialize the libraries used for the analysis, and, later, we present a section per hypothesis describing the model and the code to test the veracity of the hypothesis."
   ]
  },
  {
   "cell_type": "markdown",
   "metadata": {
    "colab_type": "text",
    "collapsed": false,
    "id": "H5pXYG4kf-MQ"
   },
   "source": [
    "###  Initialization"
   ]
  },
  {
   "cell_type": "markdown",
   "metadata": {
    "colab_type": "text",
    "collapsed": false,
    "id": "8BP_i7VBqKnl"
   },
   "source": [
    "**Little technical note:** In case you have problems with arviz+pymc3. Just run the cell below.\n",
    "\n",
    "You will be abel to detect issues if running the imports cell (two cells below) gives you an error."
   ]
  },
  {
   "cell_type": "code",
   "execution_count": null,
   "metadata": {
    "colab": null,
    "colab_type": "code",
    "collapsed": false,
    "id": "-Kxll3yzgTjA"
   },
   "outputs": [],
   "source": [
    "!pip install arviz\n",
    "!pip install git+https://github.com/pymc-devs/pymc3"
   ]
  },
  {
   "cell_type": "markdown",
   "metadata": {
    "colab_type": "text",
    "collapsed": false,
    "id": "e2I869MDgZUS"
   },
   "source": [
    "#### Imports\n",
    "\n",
    "Here we simply import all the libraries we need for our analysis.\n",
    "\n",
    "[NOTE: If you think it is necessary I can explain what each library is for]"
   ]
  },
  {
   "cell_type": "code",
   "execution_count": null,
   "metadata": {
    "colab": null,
    "colab_type": "code",
    "collapsed": false,
    "id": "mrLeZ-_lB-Gm"
   },
   "outputs": [],
   "source": [
    "import numpy as np\n",
    "import pandas as pd\n",
    "import arviz as az\n",
    "import pymc3 as pm\n",
    "from matplotlib import pyplot as plt"
   ]
  },
  {
   "cell_type": "markdown",
   "metadata": {
    "colab_type": "text",
    "collapsed": false,
    "id": "Gsg0Vc3wgTjA"
   },
   "source": [
    "### Loading the data\n",
    "\n",
    "We read the data from the pseudonymized data set and filter it by\n",
    "community. The dataset contains the answers of each participants to questions (variables) from V27 to V33. Each cell in the dataset contains an integer value in $\\{-1\\} \\cup [1,5]$ where $-1$ means that the participant didn't answer the question, $1$ means strongly agree, $2$ agree, and so on.\n",
    "\n",
    "In order to protect the identity of the participants we have striped out identifiable information from the original dataset. Concretely, unique identfiers and textual answers. This modification has no effect in the results as those data are irrelevant.\n",
    "\n",
    "Run the cell below to get a preview of the dataset."
   ]
  },
  {
   "cell_type": "code",
   "execution_count": null,
   "metadata": {
    "colab": {
     "base_uri": "https://localhost:8080/",
     "height": 400
    },
    "colab_type": "code",
    "collapsed": false,
    "id": "JhLo9FVwgTjA",
    "outputId": "b3199c62-f1a0-40ec-cdf8-cecc94475700"
   },
   "outputs": [],
   "source": [
    "df = pd.read_csv('pseudonymized-data.csv')\n",
    "\n",
    "### In case the file 'pseudonymized-data.csv' disappears, comment the lines above, and use the code below to upload it again\n",
    "# from google.colab import files\n",
    "# import io\n",
    "# uploaded = files.upload()\n",
    "# df = pd.read_csv(io.BytesIO(uploaded['pseudonymized-data.csv']))\n",
    "\n",
    "# Show a preview of the data\n",
    "df"
   ]
  },
  {
   "cell_type": "markdown",
   "metadata": {
    "colab_type": "text",
    "collapsed": false,
    "id": "KnLQqjCRnQig"
   },
   "source": [
    "### H1: The Linux Kernel community adopts a protective style of governance for its code change process"
   ]
  },
  {
   "cell_type": "markdown",
   "metadata": {
    "colab_type": "text",
    "collapsed": false,
    "id": "rZ0u_kygjmdb"
   },
   "source": [
    "Here we analyze the veracity of hypothesis H1."
   ]
  },
  {
   "cell_type": "markdown",
   "metadata": {
    "colab_type": "text",
    "collapsed": false,
    "id": "o1YXC2YPnbRX"
   },
   "source": [
    "#### Data"
   ]
  },
  {
   "cell_type": "markdown",
   "metadata": {
    "colab_type": "text",
    "collapsed": false,
    "id": "3u7sq771nbRj"
   },
   "source": [
    "Here we simply load the data we analyze, i.e., answers to question V33 by the Coala community."
   ]
  },
  {
   "cell_type": "code",
   "execution_count": null,
   "metadata": {
    "colab": null,
    "colab_type": "code",
    "collapsed": false,
    "id": "scSVHadtnbRn"
   },
   "outputs": [],
   "source": [
    "## Just showing that all answer to V33 by duckduck go are -1\n",
    "Community = 'Comm.Linux_Kernel'\n",
    "v27 = df[(df.Community == Community) & (df.V27 != -1)].V27\n",
    "v28 = df[(df.Community == Community) & (df.V28 != -1)].V28\n",
    "v29 = df[(df.Community == Community) & (df.V29 != -1)].V29\n",
    "v30 = df[(df.Community == Community) & (df.V30 != -1)].V30"
   ]
  },
  {
   "cell_type": "markdown",
   "metadata": {
    "colab_type": "text",
    "collapsed": false,
    "id": "BF9lsK_0o6y0"
   },
   "source": [
    "#### Model\n",
    "\n",
    "To study this hypothesis, we estimate the distribution of the answers\n",
    "to questions V27-V30 by participants of the Linux Kernel community. As mentioned earlier, we assume that the data form a [normal\n",
    "distribution](https://en.wikipedia.org/wiki/Normal_distribution). We estimate the distribution for the answers to each question separately. We\n",
    "set\n",
    "[uniform](https://en.wikipedia.org/wiki/Uniform_distribution_(continuous))\n",
    "priors on the parameters of the normal distributions—from\n",
    "$1$ to $5$ for the mean, and $0$ to $10$ for the standard\n",
    "deviation. Finally we check whether the answers are positive to any of the questions above. That is, whether the participants reply in the range neutral, agree or strongly agree.\n"
   ]
  },
  {
   "cell_type": "code",
   "execution_count": null,
   "metadata": {
    "colab": null,
    "colab_type": "code",
    "collapsed": false,
    "id": "QWgUmaLuo6zD"
   },
   "outputs": [],
   "source": [
    "with pm.Model() as protective_linux_kernel:\n",
    "  μ27 = pm.Uniform('μ27', lower=1, upper=5)\n",
    "  μ28 = pm.Uniform('μ28', lower=1, upper=5)\n",
    "  μ29 = pm.Uniform('μ29', lower=1, upper=5)\n",
    "  μ30 = pm.Uniform('μ30', lower=1, upper=5)\n",
    "\n",
    "  σ27 = pm.Uniform('σ27', lower=0, upper=4)\n",
    "  σ28 = pm.Uniform('σ28', lower=0, upper=4)\n",
    "  σ29 = pm.Uniform('σ29', lower=0, upper=4)\n",
    "  σ30 = pm.Uniform('σ30', lower=0, upper=4)\n",
    "\n",
    "  obs27 = pm.Normal('obs27',mu=μ27,sigma=σ27,observed=v27)\n",
    "  obs28 = pm.Normal('obs28',mu=μ28,sigma=σ28,observed=v28)\n",
    "  obs29 = pm.Normal('obs29',mu=μ29,sigma=σ29,observed=v29)\n",
    "  obs30 = pm.Normal('obs30',mu=μ30,sigma=σ30,observed=v30)"
   ]
  },
  {
   "cell_type": "markdown",
   "metadata": {
    "colab_type": "text",
    "collapsed": false,
    "id": "ZPyorw3Xo6zK"
   },
   "source": [
    "#### Sampling"
   ]
  },
  {
   "cell_type": "code",
   "execution_count": null,
   "metadata": {
    "colab": {
     "base_uri": "https://localhost:8080/",
     "height": 202
    },
    "colab_type": "code",
    "collapsed": false,
    "id": "hgf7Glq-o6zL",
    "outputId": "a1cccb3a-ddf2-4121-fdcf-b379f8156da4"
   },
   "outputs": [],
   "source": [
    "with protective_linux_kernel:\n",
    "  trace_protective_linux_kernel = pm.sample(10000,cores=2)\n",
    "  ppc_protective_linux_kernel = pm.sample_posterior_predictive(trace_protective_linux_kernel, \n",
    "                                                               samples=5000, \n",
    "                                                               model=protective_linux_kernel)"
   ]
  },
  {
   "cell_type": "markdown",
   "metadata": {
    "colab_type": "text",
    "collapsed": false,
    "id": "hLTw9mPAo6zP"
   },
   "source": [
    "#### Plotting"
   ]
  },
  {
   "cell_type": "markdown",
   "metadata": {
    "colab_type": "text",
    "collapsed": false,
    "id": "mhhT0Y0_kHXI"
   },
   "source": [
    "We show the different distributions for the data. The plots show the percentage of probability density above and below 3, i.e., the percentage of answers above (towards strong disagree) or below (towards strong agree) neutral."
   ]
  },
  {
   "cell_type": "code",
   "execution_count": null,
   "metadata": {
    "colab": {
     "base_uri": "https://localhost:8080/",
     "height": 665
    },
    "colab_type": "code",
    "collapsed": false,
    "id": "bU6OdMWYo6zP",
    "outputId": "b6307871-0ddc-4579-ca07-b2b19e4a6d79"
   },
   "outputs": [],
   "source": [
    "fig, axs = plt.subplots(2, 2,figsize=(20,8))\n",
    "pm.plot_posterior(ppc_protective_linux_kernel['obs27'],ref_val=3,point_estimate='mode', ax=axs[0,0])\n",
    "pm.plot_posterior(ppc_protective_linux_kernel['obs28'],ref_val=3,point_estimate='mode', ax=axs[0,1])\n",
    "pm.plot_posterior(ppc_protective_linux_kernel['obs29'],ref_val=3,point_estimate='mode', ax=axs[1,0])\n",
    "pm.plot_posterior(ppc_protective_linux_kernel['obs30'],ref_val=3,point_estimate='mode', ax=axs[1,1])\n",
    "axs[0, 0].set_title('Answers V27')\n",
    "axs[0, 1].set_title('Answers V28')\n",
    "axs[1, 0].set_title('Answers V29')\n",
    "axs[1, 1].set_title('Answers V30')\n",
    "plt.show()"
   ]
  },
  {
   "cell_type": "markdown",
   "metadata": {
    "colab_type": "text",
    "collapsed": false,
    "id": "uWE0slD_rmnp"
   },
   "source": [
    "#### Queries"
   ]
  },
  {
   "cell_type": "markdown",
   "metadata": {
    "colab_type": "text",
    "collapsed": false,
    "id": "x3zBWbnsrpQU"
   },
   "source": [
    "##### Protective"
   ]
  },
  {
   "cell_type": "markdown",
   "metadata": {
    "colab_type": "text",
    "collapsed": false,
    "id": "UrhiDXHrrtDD"
   },
   "source": [
    "We define a function that precisely defines whether the answers to a question are _positive_ based on its probability distribution. \n",
    "\n",
    "Note that for each question we consider the distribution of the answer as positive if the distribution has 95% of the asnwers below 3.0. Intuitively, it means that all the answers are concentrated in strong agree, agree or neutral. This is typically known in statistics as the Region of Practical Equivalence ([ROPE](https://cran.r-project.org/web/packages/bayestestR/vignettes/region_of_practical_equivalence.html)). In other words, our results assume an error of 5%. [NOTE: check the last statement]"
   ]
  },
  {
   "cell_type": "code",
   "execution_count": null,
   "metadata": {
    "colab": null,
    "colab_type": "code",
    "collapsed": false,
    "id": "QJEyMMx2sNXF"
   },
   "outputs": [],
   "source": [
    "def protective(trace):\n",
    "    return (np.mean(trace['obs28'] < 3.0) > .95 or\n",
    "            np.mean(trace['obs29'] < 3.0) > .95 or\n",
    "            np.mean(trace['obs30'] < 3.0) > .95)"
   ]
  },
  {
   "cell_type": "markdown",
   "metadata": {
    "colab_type": "text",
    "collapsed": false,
    "id": "FWrTfIjNsQHS"
   },
   "source": [
    "Now we ask whether the Linux Kernel community is protective."
   ]
  },
  {
   "cell_type": "code",
   "execution_count": null,
   "metadata": {
    "colab": null,
    "colab_type": "code",
    "collapsed": false,
    "id": "j9kN5gYjs-sq"
   },
   "outputs": [],
   "source": [
    "print(\"Is the \" + Community + \" community protective? \" + str(protective(ppc_protective_linux_kernel)))"
   ]
  },
  {
   "cell_type": "markdown",
   "metadata": {
    "colab_type": "text",
    "collapsed": false,
    "id": "5oltz_NIo6zT"
   },
   "source": [
    "#### Conclusions\n",
    "\n",
    "As the output of the cell above suggest, the Linux Kernel communitive is not protective. Therefore we can conclude that **hypothesis 1 is false**.\n",
    "\n",
    "The HPD intervals show that the answers are heavily spread over all possibilities, i.e., all values from 1 to 5 are within the HPD interval. This observation indicates that the community does not show a central tendency in how protective they are."
   ]
  },
  {
   "cell_type": "markdown",
   "metadata": {
    "colab_type": "text",
    "collapsed": false,
    "id": "kaUKhJfxiPL3"
   },
   "source": [
    "### H2: The FOSSASIA community adopts an equitable style of governance for its pull request process"
   ]
  },
  {
   "cell_type": "markdown",
   "metadata": {
    "colab_type": "text",
    "collapsed": false,
    "id": "k3jDfdVHiPL4"
   },
   "source": [
    "#### Data"
   ]
  },
  {
   "cell_type": "markdown",
   "metadata": {
    "colab_type": "text",
    "collapsed": false,
    "id": "uVupATqsiPL5"
   },
   "source": [
    "Here we simply load the data we will analyze, i.e., answers to question V31 and V32 by the FOSSASIA community."
   ]
  },
  {
   "cell_type": "code",
   "execution_count": null,
   "metadata": {
    "colab": null,
    "colab_type": "code",
    "collapsed": false,
    "id": "aJlWo2Q1iPL7"
   },
   "outputs": [],
   "source": [
    "# Preview of the answers of the FOSSASIA community to answers V31 and V32\n",
    "Community = 'Comm.FOSSASIA'\n",
    "v31 = df[(df.Community == Community) & (df.V31 != -1)].V31\n",
    "v32 = df[(df.Community == Community) & (df.V32 != -1)].V32"
   ]
  },
  {
   "cell_type": "markdown",
   "metadata": {
    "colab_type": "text",
    "collapsed": false,
    "id": "B-Aor316iPMA"
   },
   "source": [
    "#### Model"
   ]
  },
  {
   "cell_type": "markdown",
   "metadata": {
    "colab_type": "text",
    "collapsed": false,
    "id": "rsw4jBsziPMC"
   },
   "source": [
    "To study this hypothesis, we estimate the distribution of the answers to questions V31 and V32 by participants of the FOSSASIA community. As mentioned earlier, we assume that the data form a [normal distribution](https://en.wikipedia.org/wiki/Normal_distribution). We estimate the distribution for the answers to each question separately. We set [uniform](https://en.wikipedia.org/wiki/Uniform_distribution_(continuous)) priors on the parameters of the normal distributions—from $1$ to $5$ for the mean, and $0$ to $10$ for the standard deviation. Finally we check whether the answers are positive to any of the questions above. That is, whether the participants reply in the range neutral, agree or strongly agree."
   ]
  },
  {
   "cell_type": "code",
   "execution_count": null,
   "metadata": {
    "colab": null,
    "colab_type": "code",
    "collapsed": false,
    "id": "-9j40rKZiPME"
   },
   "outputs": [],
   "source": [
    "with pm.Model() as equitable_fossasia:\n",
    "  μ31 = pm.Uniform('μ31', lower=1, upper=5)\n",
    "  μ32 = pm.Uniform('μ32', lower=1, upper=5)\n",
    "\n",
    "  σ31 = pm.Uniform('σ31', lower=0, upper=4)\n",
    "  σ32 = pm.Uniform('σ32', lower=0, upper=4)\n",
    "\n",
    "  obs31 = pm.Normal('obs31',mu=μ31,sigma=σ31,observed=v31)\n",
    "  obs32 = pm.Normal('obs32',mu=μ32,sigma=σ32,observed=v32)"
   ]
  },
  {
   "cell_type": "markdown",
   "metadata": {
    "colab_type": "text",
    "collapsed": false,
    "id": "9D4oQabgiPMI"
   },
   "source": [
    "#### Sampling"
   ]
  },
  {
   "cell_type": "code",
   "execution_count": null,
   "metadata": {
    "colab": {
     "base_uri": "https://localhost:8080/",
     "height": 202
    },
    "colab_type": "code",
    "collapsed": false,
    "id": "y6Sd_UB1iPMJ",
    "outputId": "c2f819c0-03c2-4666-d955-aae9f0be2e05"
   },
   "outputs": [],
   "source": [
    "with equitable_fossasia:\n",
    "  trace_equitable_fossasia = pm.sample(10000,cores=2)\n",
    "  ppc_equitable_fosassia = pm.sample_posterior_predictive(trace_equitable_fossasia, \n",
    "                                                          samples=5000, \n",
    "                                                          model=equitable_fossasia)"
   ]
  },
  {
   "cell_type": "markdown",
   "metadata": {
    "colab_type": "text",
    "collapsed": false,
    "id": "Vtg4RNi_iPMM"
   },
   "source": [
    "#### Plotting"
   ]
  },
  {
   "cell_type": "markdown",
   "metadata": {
    "colab_type": "text",
    "collapsed": false,
    "id": "T58fC99qqqJY"
   },
   "source": [
    "We show the different distributions for the data. The plots show the percentage of probability density above and below 3, i.e., the percentage of answers above (towards strong disagree) or below (towards strong agree) neutral."
   ]
  },
  {
   "cell_type": "code",
   "execution_count": null,
   "metadata": {
    "colab": {
     "base_uri": "https://localhost:8080/",
     "height": 593
    },
    "colab_type": "code",
    "collapsed": false,
    "id": "S2Ygzi0ZiPMO",
    "outputId": "13581b7f-bef1-48a7-eed3-a9e9cb5def94"
   },
   "outputs": [],
   "source": [
    "\n",
    "fig, (ax1,ax2) = plt.subplots(2, figsize=(20,8))\n",
    "pm.plot_posterior(ppc_equitable_fosassia['obs31'],ref_val=3,point_estimate='mode',ax=ax1)\n",
    "pm.plot_posterior(ppc_equitable_fosassia['obs32'],ref_val=3,point_estimate='mode',ax=ax2)\n",
    "ax1.set_title('Answers V31')\n",
    "ax2.set_title('Answers V32')\n",
    "plt.show()"
   ]
  },
  {
   "cell_type": "markdown",
   "metadata": {
    "colab_type": "text",
    "collapsed": false,
    "id": "66TMNoFiiPMV"
   },
   "source": [
    "#### Queries"
   ]
  },
  {
   "cell_type": "markdown",
   "metadata": {
    "colab_type": "text",
    "collapsed": false,
    "id": "wKevMdZLiPMW"
   },
   "source": [
    "##### Equitable"
   ]
  },
  {
   "cell_type": "markdown",
   "metadata": {
    "colab_type": "text",
    "collapsed": false,
    "id": "uFL9TJgAiPMX"
   },
   "source": [
    "Here we define a function that determines whether the answers of a community are _equitable_.\n",
    "To do so, the function checks whether the community is _positive_ to question V31 and V32.\n",
    "We precisely defined begin positive as replying with answers in the range neutral, agree or strongly agree (see [Answers](#Answers))\n",
    "\n",
    "Note that, in the function below, for each question we consider the distribution of the answer as positive if the distribution has 95% of the asnwers below 3.0. Intuitively, it means that all the answers are concentrated in strong agree, agree or neutral. This is typically known in statistics as the Region of Practical Equivalence ([ROPE](https://cran.r-project.org/web/packages/bayestestR/vignettes/region_of_practical_equivalence.html)). In other words, our results assume an error of 5%. [NOTE: check the last statement]"
   ]
  },
  {
   "cell_type": "code",
   "execution_count": null,
   "metadata": {
    "colab": null,
    "colab_type": "code",
    "collapsed": false,
    "id": "gUGUzszIiPMY"
   },
   "outputs": [],
   "source": [
    "def equitable(trace):\n",
    "    return (np.mean(trace['obs31'] < 3.0) > .95 or\n",
    "            np.mean(trace['obs32'] < 3.0) > .95)"
   ]
  },
  {
   "cell_type": "markdown",
   "metadata": {
    "colab_type": "text",
    "collapsed": false,
    "id": "bgLIRbNZiPMc"
   },
   "source": [
    "Now we ask whether the FOSSASIA community is equitable"
   ]
  },
  {
   "cell_type": "code",
   "execution_count": null,
   "metadata": {
    "colab": {
     "base_uri": "https://localhost:8080/",
     "height": 35
    },
    "colab_type": "code",
    "collapsed": false,
    "id": "D8GL1NM7iPMd",
    "outputId": "8ee47290-19ef-47ca-ffeb-0d952a2d3c9e"
   },
   "outputs": [],
   "source": [
    "print(\"Is the \" + Community + \" community equitable? \" + str(equitable(ppc_equitable_fosassia)))"
   ]
  },
  {
   "cell_type": "markdown",
   "metadata": {
    "colab_type": "text",
    "collapsed": false,
    "id": "1Wi97cEtiPMk"
   },
   "source": [
    "#### Conclusion"
   ]
  },
  {
   "cell_type": "markdown",
   "metadata": {
    "colab_type": "text",
    "collapsed": false,
    "id": "lAlP2p74iPMl"
   },
   "source": [
    "As stated in the previous cell, the results indicate that the FOSSASIA\n",
    "community displays an equitable behaviour. Therefore, **hypothesis H2\n",
    "is true**.\n",
    "\n",
    "By looking a the graphs in the plotting section, we can see that the\n",
    "hypothesis is true due to the answers to question V32. This\n",
    "distribution has mode 1.3 and the HDP interval goes from 0.2 to 2.3,\n",
    "meaning that most participants answer strongly agree or\n",
    "agree. Nevertheless, the answers to question V31 are closer to\n",
    "neutral. The HDP interval goes from 0 to 3.3, also 6.3% of the\n",
    "distribution is in the range of answers neutral/disagree. This might\n",
    "suggest that there are some participants who responded  \"disagree\"\n",
    "to this question."
   ]
  },
  {
   "cell_type": "markdown",
   "metadata": {
    "colab_type": "text",
    "collapsed": false,
    "id": "FBqptq6RgTjA"
   },
   "source": [
    "### H4: The DuckDuckGo community adopts a lenient style of governance for its pull request process\n"
   ]
  },
  {
   "cell_type": "markdown",
   "metadata": {
    "colab_type": "text",
    "collapsed": false,
    "id": "nE8OHQKumaJy"
   },
   "source": [
    "#### Data"
   ]
  },
  {
   "cell_type": "markdown",
   "metadata": {
    "colab_type": "text",
    "collapsed": false,
    "id": "y3K8KDG4maJ0"
   },
   "source": [
    "Here we simply print the data we will analyze, i.e., answers to question V33 by the Coala community."
   ]
  },
  {
   "cell_type": "code",
   "execution_count": null,
   "metadata": {
    "colab": {
     "base_uri": "https://localhost:8080/",
     "height": 106
    },
    "colab_type": "code",
    "collapsed": false,
    "id": "WxXkvwTF5Fw5",
    "outputId": "85c127af-2394-41ce-cdc5-7289f8070c85"
   },
   "outputs": [],
   "source": [
    "## Just showing that all answer to V33 by duckduck go are -1\n",
    "df[(df.Community == 'Comm.DuckDuckGo')].V33"
   ]
  },
  {
   "cell_type": "markdown",
   "metadata": {
    "colab_type": "text",
    "collapsed": false,
    "id": "cP_Rs-Hn5aDW"
   },
   "source": [
    "#### Conclusions\n",
    "\n",
    "Since nobody from the DuckDuckGo community reply to answer V33 we cannot perform the analysis."
   ]
  },
  {
   "cell_type": "markdown",
   "metadata": {
    "colab_type": "text",
    "collapsed": false,
    "id": "5gx4DZAU6twH"
   },
   "source": [
    "### H5: The Coala community adopts a linient style of governance for its pull request process\n"
   ]
  },
  {
   "cell_type": "markdown",
   "metadata": {
    "colab_type": "text",
    "collapsed": false,
    "id": "YS8PYq3GfH2Y"
   },
   "source": [
    "#### Data"
   ]
  },
  {
   "cell_type": "markdown",
   "metadata": {
    "colab_type": "text",
    "collapsed": false,
    "id": "aQWfLy6TfMiU"
   },
   "source": [
    "Here we simply load the data we will analyze, i.e., answers to question V33 by the Coala community."
   ]
  },
  {
   "cell_type": "code",
   "execution_count": null,
   "metadata": {
    "colab": null,
    "colab_type": "code",
    "collapsed": false,
    "id": "jpMiFdpz6twO"
   },
   "outputs": [],
   "source": [
    "v33_Coala = df[(df.Community == 'Comm.Coala') & (df.V33 != -1)].V33"
   ]
  },
  {
   "cell_type": "markdown",
   "metadata": {
    "colab_type": "text",
    "collapsed": false,
    "id": "tqjUszno6twK"
   },
   "source": [
    "#### Model\n",
    "\n",
    "To study this hypothesis, we estimate the distribution of the answers\n",
    "to question V33 by participants of the Coala community. As mentioned earlier, we assume that the data form a [normal\n",
    "distribution](https://en.wikipedia.org/wiki/Normal_distribution). We\n",
    "set\n",
    "[uniform](https://en.wikipedia.org/wiki/Uniform_distribution_(continuous))\n",
    "priors on the parameters of the normal distributions for the data—from\n",
    "$1$ to $5$ for the mean, and $0$ to $10$ for the standard\n",
    "deviation. Finally we look into the posterior distribution to determine whether the hypothesis is validated by the data.\n"
   ]
  },
  {
   "cell_type": "code",
   "execution_count": null,
   "metadata": {
    "colab": null,
    "colab_type": "code",
    "collapsed": false,
    "id": "bxTIN-Bm6twL"
   },
   "outputs": [],
   "source": [
    "with pm.Model() as coala_lenient:\n",
    "    μ = pm.Uniform('μ', 1, 5)\n",
    "    σ = pm.Uniform('σ', 0, 10)\n",
    "\n",
    "    obs = pm.Normal('obs', mu=μ, sigma=σ,\n",
    "                    observed=v33_Coala)"
   ]
  },
  {
   "cell_type": "markdown",
   "metadata": {
    "colab_type": "text",
    "collapsed": false,
    "id": "fh80JwDE6twR"
   },
   "source": [
    "#### Sampling"
   ]
  },
  {
   "cell_type": "code",
   "execution_count": null,
   "metadata": {
    "colab": {
     "base_uri": "https://localhost:8080/",
     "height": 220
    },
    "colab_type": "code",
    "collapsed": false,
    "id": "USyeCWZF6twS",
    "outputId": "d36dd166-59cd-48c9-8a8b-c4558d14b2b5"
   },
   "outputs": [],
   "source": [
    "with coala_lenient:\n",
    "  trace_coala_lenient = pm.sample(10000,cores=2) # Compute posterior\n",
    "  ppc_coala_lenient = pm.sample_posterior_predictive(trace_coala_lenient,\n",
    "                                                     samples=5000,\n",
    "                                                     model=coala_lenient) # Computer predictive check"
   ]
  },
  {
   "cell_type": "markdown",
   "metadata": {
    "colab_type": "text",
    "collapsed": false,
    "id": "rkc0IKmQ6twU"
   },
   "source": [
    "#### Plotting"
   ]
  },
  {
   "cell_type": "markdown",
   "metadata": {
    "colab_type": "text",
    "collapsed": false,
    "id": "aUaDrOC1qtxl"
   },
   "source": [
    "We show the distribution for the data. The plot shows the percentage of probability density above and below 3, i.e., the percentage of answers above (towards strong disagree) or below (towards strong agree) neutral."
   ]
  },
  {
   "cell_type": "code",
   "execution_count": null,
   "metadata": {
    "colab": {
     "base_uri": "https://localhost:8080/",
     "height": 340
    },
    "colab_type": "code",
    "collapsed": false,
    "id": "hNqzLICS6twV",
    "outputId": "25a9ff48-e017-4ead-f226-c16c5ef201c0"
   },
   "outputs": [],
   "source": [
    "\n",
    "fig, ax = plt.subplots()\n",
    "pm.plot_posterior(ppc_coala_lenient['obs'], ref_val=3, rope=(1.5,2.5), ax=ax)\n",
    "ax.set_title('Answers V33')\n",
    "plt.show()"
   ]
  },
  {
   "cell_type": "markdown",
   "metadata": {
    "colab_type": "text",
    "collapsed": false,
    "id": "PVxvWxtP6twZ"
   },
   "source": [
    "#### Conclusions\n",
    "\n",
    "The HDP of the distribution is from 0.4 to 3.1, i.e., most answers go from strongly agree to neutral. Only 3.9% of the answers are greater than 3, i.e., only 3.9% of the answer are on the side of disagree of strongly disagree. Therefore we can conclude that **hypothesis H5 is true**."
   ]
  },
  {
   "cell_type": "markdown",
   "metadata": {
    "colab_type": "text",
    "collapsed": false,
    "id": "5-Z_L8C959md"
   },
   "source": [
    "### H7 (BONUS): The Coala Community is more lenient than the Linux Kernel Community"
   ]
  },
  {
   "cell_type": "markdown",
   "metadata": {
    "colab_type": "text",
    "collapsed": false,
    "id": "HexIZjv7iPNm"
   },
   "source": [
    "#### Data"
   ]
  },
  {
   "cell_type": "markdown",
   "metadata": {
    "colab_type": "text",
    "collapsed": false,
    "id": "uyVTIsoDiPNn"
   },
   "source": [
    "Here we simply load the data we will analyze, i.e., answers to\n",
    "question V33 by the Coala and Linux Kernel community."
   ]
  },
  {
   "cell_type": "code",
   "execution_count": null,
   "metadata": {
    "colab": null,
    "colab_type": "code",
    "collapsed": false,
    "id": "H8xMzJjtiPNp"
   },
   "outputs": [],
   "source": [
    "v33_Coala = df[(df.Community == 'Comm.Coala') & (df.V33 != -1)].V33\n",
    "v33_Linux_Kernel = df[(df.Community == 'Comm.Linux_Kernel') & (df.V33 != -1)].V33"
   ]
  },
  {
   "cell_type": "markdown",
   "metadata": {
    "colab_type": "text",
    "collapsed": false,
    "id": "XQXeb7kqiPNx"
   },
   "source": [
    "#### Model"
   ]
  },
  {
   "cell_type": "markdown",
   "metadata": {
    "colab_type": "text",
    "collapsed": false,
    "id": "vilx6asZiPNy"
   },
   "source": [
    "To study this hypothesis, we estimate the distributions of the answers\n",
    "to question V33 by the Coala and Linux Kernel communities.\n",
    "As mentioned earlier, we assume that the data form a [normal\n",
    "distribution](https://en.wikipedia.org/wiki/Normal_distribution). We\n",
    "set\n",
    "[uniform](https://en.wikipedia.org/wiki/Uniform_distribution_(continuous))\n",
    "priors on the parameters of the normal distributions for the data—from\n",
    "$1$ to $5$ for the mean, and $0$ to $10$ for the standard\n",
    "deviation.\n",
    "\n",
    "In order to compare the answers, we additionally compute the different\n",
    "between the mean and standard deviation of the two estimated\n",
    "distributions. Moreover, we compute the effective size between the two\n",
    "differences. The effective size is a standard method to compared to\n",
    "compare two estimated normal distributions (see puppies Chapter 16).\n"
   ]
  },
  {
   "cell_type": "code",
   "execution_count": null,
   "metadata": {
    "colab": null,
    "colab_type": "code",
    "collapsed": false,
    "id": "ErNYHGKhiPNz"
   },
   "outputs": [],
   "source": [
    "with pm.Model() as lenient_coala_vs_linuxkernel:\n",
    "    μ_Coala = pm.Uniform('μ_Coala', 1, 5)\n",
    "    σ_Coala = pm.Uniform('σ_Coala', 0, 10)\n",
    "\n",
    "    obs_Coala = pm.Normal('obs_Coala', mu=μ_Coala, sigma=σ_Coala, observed=v33_Coala)\n",
    "\n",
    "    μ_Linux_Kernel = pm.Uniform('μ_Linux_Kernel', 1, 5)\n",
    "    σ_Linux_Kernel = pm.Uniform('σ_Linux_Kernel', 0, 10)\n",
    "\n",
    "    obs_Linux_Kernel = pm.Normal('obs_Linux_Kernel', mu=μ_Linux_Kernel, sigma=σ_Linux_Kernel, observed=v33_Linux_Kernel)\n",
    "\n",
    "    μ_diff = pm.Deterministic('μ_diff',μ_Coala-μ_Linux_Kernel)\n",
    "    σ_diff = pm.Deterministic('σ_diff',σ_Coala-σ_Linux_Kernel)\n",
    "    # See Chapter 16 of the puppies for definition of effect size\n",
    "    eff_size = pm.Deterministic('eff_size', (μ_Coala-μ_Linux_Kernel)/pm.math.sqrt((pm.math.sqr(σ_Coala)+pm.math.sqr(σ_Linux_Kernel))/2))"
   ]
  },
  {
   "cell_type": "markdown",
   "metadata": {
    "colab_type": "text",
    "collapsed": false,
    "id": "s1hLGQIdiPN3"
   },
   "source": [
    "#### Sampling"
   ]
  },
  {
   "cell_type": "code",
   "execution_count": null,
   "metadata": {
    "colab": {
     "base_uri": "https://localhost:8080/",
     "height": 202
    },
    "colab_type": "code",
    "collapsed": false,
    "id": "vcclxFsJiPN4",
    "outputId": "69362c38-680f-476e-ee77-0710e4263cfa"
   },
   "outputs": [],
   "source": [
    "with lenient_coala_vs_linuxkernel:\n",
    "  trace_lenient_coala_vs_linuxkernel = pm.sample(10000,cores=2) # Compute posterior\n",
    "  ppc_lenient_coala_vs_linuxkernel = pm.sample_posterior_predictive(trace_lenient_coala_vs_linuxkernel,\n",
    "                                                                    samples=5000,\n",
    "                                                                    model=lenient_coala_vs_linuxkernel) # Computer predictive check"
   ]
  },
  {
   "cell_type": "markdown",
   "metadata": {
    "colab_type": "text",
    "collapsed": false,
    "id": "83fADM0giPN-"
   },
   "source": [
    "#### Plotting"
   ]
  },
  {
   "cell_type": "markdown",
   "metadata": {
    "colab_type": "text",
    "collapsed": false,
    "id": "TMrePerGqzYj"
   },
   "source": [
    "We show the different distributions for the data. The plots show the percentage of probability density above and below 3, i.e., the percentage of answers above (towards strong disagree) or below (towards strong agree) neutral.\n",
    "\n",
    "Furthermore, we show the distributons on the difference of means, standard deviation and effective size. These plots provide useful information in determining whether the distributions on the answers are different."
   ]
  },
  {
   "cell_type": "code",
   "execution_count": null,
   "metadata": {
    "colab": {
     "base_uri": "https://localhost:8080/",
     "height": 769
    },
    "colab_type": "code",
    "collapsed": false,
    "id": "SKINXk3TiPN_",
    "outputId": "18ad4d02-2f4f-4b43-b958-b5676e1be877"
   },
   "outputs": [],
   "source": [
    "fig, (ax1,ax2) = plt.subplots(1,2,figsize=(15,5))\n",
    "pm.plot_posterior(ppc_lenient_coala_vs_linuxkernel['obs_Coala'], ref_val=3, ax=ax1)\n",
    "pm.plot_posterior(ppc_lenient_coala_vs_linuxkernel['obs_Linux_Kernel'], ref_val=3, ax=ax2)\n",
    "ax1.set_title('Answers V33 Coala')\n",
    "ax2.set_title('Answers V33 Linux Kernel')\n",
    "pm.plot_posterior(trace_lenient_coala_vs_linuxkernel, var_names=['μ_diff','σ_diff','eff_size'], ref_val=0, rope=(-0.1,0.1))\n",
    "plt.show()"
   ]
  },
  {
   "cell_type": "markdown",
   "metadata": {
    "colab_type": "text",
    "collapsed": false,
    "id": "oRvDs1ueiPOG"
   },
   "source": [
    "#### Conclusion"
   ]
  },
  {
   "cell_type": "markdown",
   "metadata": {
    "colab_type": "text",
    "collapsed": false,
    "id": "Qi1c2yXOiPOI"
   },
   "source": [
    "The differences of means $\\mu\\_\\mathit{diff}\\,$ indicates that there is\n",
    "a difference of 1.2 towards more lenient answers in the Coala\n",
    "community. Furthermore, the posterior distribution of the effect size\n",
    "suggest a nonzero difference well outside of a (-0.1,0.1) ROPE.\n",
    "\n",
    "Consequently we can conclude that **hypothesis H7 is true**.\n"
   ]
  },
  {
   "cell_type": "markdown",
   "metadata": {
    "colab_type": "text",
    "collapsed": false,
    "id": "71aurnUviPOJ"
   },
   "source": [
    "## Results Summary"
   ]
  },
  {
   "cell_type": "markdown",
   "metadata": {
    "colab_type": "text",
    "collapsed": false,
    "id": "x2AxRt_diPOK"
   },
   "source": [
    "| Hypotehsis | Results | Observations                                |\n",
    "|------------|---------|---------------------------------------------|\n",
    "| H1         | False   |                                             |\n",
    "| H2         | True    |                                             |\n",
    "| H3         | —       | To analyze                                  |\n",
    "| H4         | ???     | There are no answers to V33 from DuckDuckGo |\n",
    "| H5         | True    |                                             |\n",
    "| H6         | —       | To analyze                                  |\n",
    "| H7(BONUS)  | True    |                                             |\n"
   ]
  },
  {
   "cell_type": "markdown",
   "metadata": {
    "colab_type": "text",
    "collapsed": false,
    "id": "VxrNXcZsiPOL"
   },
   "source": [
    "## What comes below is just random experiments not part of the report"
   ]
  },
  {
   "cell_type": "markdown",
   "metadata": {
    "colab_type": "text",
    "collapsed": false,
    "id": "SCN9kIf1iPK8"
   },
   "source": [
    "[NOTE: Ignore this cell, I simply use it as a template when I run an experiment. That said, it gives a good overview of the structure of each section.]\n",
    "### HX Title of hypothesis\n",
    "#### Data\n",
    "#### Model\n",
    "#### Sampling\n",
    "#### Plotting\n",
    "#### Queries\n",
    "#### Conclusion"
   ]
  },
  {
   "cell_type": "code",
   "execution_count": null,
   "metadata": {
    "colab": null,
    "colab_type": "code",
    "collapsed": false,
    "id": "ncjRluX2gTjA"
   },
   "outputs": [],
   "source": [
    "## Protective Coala?\n",
    "### If answers are negative to V28-V30 does it mean that the community\n",
    "### is not protective?\n",
    "\n",
    "##### NOTE: Positive is > agree (also after neutral)\n",
    "\n",
    "Community = 'Comm.ROS'\n",
    "v28 = df[(df.Community == Community) & (df.V28 != -1)].V28\n",
    "v29 = df[(df.Community == Community) & (df.V29 != -1)].V29\n",
    "v30 = df[(df.Community == Community) & (df.V30 != -1)].V30\n",
    "v31 = df[(df.Community == Community) & (df.V31 != -1)].V31\n",
    "v32 = df[(df.Community == Community) & (df.V32 != -1)].V32\n",
    "\n",
    "with pm.Model() as model:\n",
    "    μ28 = pm.Uniform('μ28', lower=1, upper=5)\n",
    "    μ29 = pm.Uniform('μ29', lower=1, upper=5)\n",
    "    μ30 = pm.Uniform('μ30', lower=1, upper=5)\n",
    "    μ31 = pm.Uniform('μ31', lower=1, upper=5)\n",
    "    μ32 = pm.Uniform('μ32', lower=1, upper=5)\n",
    "\n",
    "    σ28 = pm.Uniform('σ28', lower=0, upper=4)\n",
    "    σ29 = pm.Uniform('σ29', lower=0, upper=4)\n",
    "    σ30 = pm.Uniform('σ30', lower=0, upper=4)\n",
    "    σ31 = pm.Uniform('σ31', lower=0, upper=4)\n",
    "    σ32 = pm.Uniform('σ32', lower=0, upper=4)\n",
    "\n",
    "    obs28 = pm.Normal('obs28',mu=μ28,sigma=σ28,observed=v28)\n",
    "    obs29 = pm.Normal('obs29',mu=μ29,sigma=σ29,observed=v29)\n",
    "    obs30 = pm.Normal('obs30',mu=μ30,sigma=σ30,observed=v30)\n",
    "    obs31 = pm.Normal('obs31',mu=μ31,sigma=σ31,observed=v31)\n",
    "    obs32 = pm.Normal('obs32',mu=μ32,sigma=σ32,observed=v32)"
   ]
  },
  {
   "cell_type": "code",
   "execution_count": null,
   "metadata": {
    "colab": null,
    "colab_type": "code",
    "collapsed": false,
    "id": "UL6On26nBZAL"
   },
   "outputs": [],
   "source": [
    "with model:\n",
    "    trace = pm.sample(10000,cores=2)"
   ]
  },
  {
   "cell_type": "code",
   "execution_count": null,
   "metadata": {
    "colab": null,
    "colab_type": "code",
    "collapsed": false,
    "id": "Y8RwOhNypxg8"
   },
   "outputs": [],
   "source": [
    "pm.traceplot(trace)"
   ]
  },
  {
   "cell_type": "code",
   "execution_count": null,
   "metadata": {
    "colab": null,
    "colab_type": "code",
    "collapsed": false,
    "id": "9rDDmmSPBh_e"
   },
   "outputs": [],
   "source": [
    "## TO DISCUSS: I put as a condition > .95 instead of == 1.0 because ==\n",
    "## 1.0 is hard to get. Also we should adjust for noise.\n",
    "\n",
    "def protective(trace):\n",
    "    return (np.mean(trace['obs28'] < 3.0) > .95 or\n",
    "            np.mean(trace['obs29'] < 3.0) > .95 or\n",
    "            np.mean(trace['obs30'] < 3.0) > .95)\n",
    "\n",
    "def equitable(trace):\n",
    "    return (np.mean(trace['obs31'] < 3.0) > .95 or\n",
    "            np.mean(trace['obs32'] < 3.0) > .95)"
   ]
  },
  {
   "cell_type": "code",
   "execution_count": null,
   "metadata": {
    "colab": null,
    "colab_type": "code",
    "collapsed": false,
    "id": "r0m9UIqRBkh7"
   },
   "outputs": [],
   "source": [
    "ppc = pm.sample_posterior_predictive(trace, samples=5000, model=model)"
   ]
  },
  {
   "cell_type": "code",
   "execution_count": null,
   "metadata": {
    "colab": null,
    "colab_type": "code",
    "collapsed": false,
    "id": "P_SxSihSqKNR"
   },
   "outputs": [],
   "source": [
    "pm.plot_posterior(ppc['obs29'],ref_val=3)"
   ]
  },
  {
   "cell_type": "code",
   "execution_count": null,
   "metadata": {
    "colab": null,
    "colab_type": "code",
    "collapsed": false,
    "id": "NmVZsVCYrYm1"
   },
   "outputs": [],
   "source": [
    "pm.plot_posterior(trace['μ28'],ref_val=3)"
   ]
  },
  {
   "cell_type": "code",
   "execution_count": null,
   "metadata": {
    "colab": null,
    "colab_type": "code",
    "collapsed": false,
    "id": "Pq3IdgE1Bmh5"
   },
   "outputs": [],
   "source": [
    "print(\"The community \" + Community + \" is\" + (\"\" if protective(ppc) else \" not\") + \" protective\")\n",
    "print(\"The community \" + Community + \" is\" + (\"\" if equitable(ppc) else \" not\") + \" equitable\")"
   ]
  },
  {
   "cell_type": "code",
   "execution_count": null,
   "metadata": {
    "colab": null,
    "colab_type": "code",
    "collapsed": false,
    "id": "200h1mFUBqJu"
   },
   "outputs": [],
   "source": [
    "print(np.mean(ppc['obs28']<3))\n",
    "print(np.mean(ppc['obs29']<3))\n",
    "print(np.mean(ppc['obs30']<3))\n",
    "print(np.mean(ppc['obs31']<3))\n",
    "print(np.mean(ppc['obs32']<3))"
   ]
  }
 ],
 "metadata": {
  "colab": {
   "collapsed_sections": null,
   "name": "tse_codelab.ipynb",
   "provenance": null,
   "toc_visible": true
  },
  "kernelspec": {
   "argv": [
    "/usr/bin/python3",
    "-m",
    "ipykernel_launcher",
    "-f",
    "{connection_file}"
   ],
   "display_name": "Python 3",
   "env": null,
   "interrupt_mode": "signal",
   "language": "python",
   "metadata": null,
   "name": "python3"
  },
  "name": "tse_codelab.ipynb"
 },
 "nbformat": 4,
 "nbformat_minor": 0
}
